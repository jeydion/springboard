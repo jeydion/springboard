{
  "nbformat": 4,
  "nbformat_minor": 0,
  "metadata": {
    "colab": {
      "name": "Mini_Project_Naive_Bayes.ipynb",
      "version": "0.3.2",
      "provenance": [],
      "collapsed_sections": [],
      "include_colab_link": true
    },
    "kernelspec": {
      "display_name": "Python 2",
      "language": "python",
      "name": "python2"
    }
  },
  "cells": [
    {
      "cell_type": "markdown",
      "metadata": {
        "id": "view-in-github",
        "colab_type": "text"
      },
      "source": [
        "<a href=\"https://colab.research.google.com/github/jeydion/springboard/blob/master/Mini_Project_Naive_Bayes.ipynb\" target=\"_parent\"><img src=\"https://colab.research.google.com/assets/colab-badge.svg\" alt=\"Open In Colab\"/></a>"
      ]
    },
    {
      "metadata": {
        "id": "lIyqAiiRIrD0",
        "colab_type": "text"
      },
      "cell_type": "markdown",
      "source": [
        "# Basic Text Classification with Naive Bayes\n",
        "***\n",
        "In the mini-project, you'll learn the basics of text analysis using a subset of movie reviews from the rotten tomatoes database. You'll also use a fundamental technique in Bayesian inference, called Naive Bayes. This mini-project is based on [Lab 10 of Harvard's CS109](https://github.com/cs109/2015lab10) class.  Please free to go to the original lab for additional exercises and solutions."
      ]
    },
    {
      "metadata": {
        "id": "bocXI0KEIrD4",
        "colab_type": "code",
        "colab": {}
      },
      "cell_type": "code",
      "source": [
        "%matplotlib inline\n",
        "import numpy as np\n",
        "import scipy as sp\n",
        "import matplotlib as mpl\n",
        "import matplotlib.cm as cm\n",
        "import matplotlib.pyplot as plt\n",
        "import pandas as pd\n",
        "import seaborn as sns\n",
        "from six.moves import range\n",
        "\n",
        "# Setup Pandas\n",
        "pd.set_option('display.width', 500)\n",
        "pd.set_option('display.max_columns', 100)\n",
        "pd.set_option('display.notebook_repr_html', True)\n",
        "\n",
        "# Setup Seaborn\n",
        "sns.set_style(\"whitegrid\")\n",
        "sns.set_context(\"poster\")"
      ],
      "execution_count": 0,
      "outputs": []
    },
    {
      "metadata": {
        "id": "7zqaxAM_IrEC",
        "colab_type": "text"
      },
      "cell_type": "markdown",
      "source": [
        "# Table of Contents\n",
        "\n",
        "* [Rotten Tomatoes Dataset](#Rotten-Tomatoes-Dataset)\n",
        "    * [Explore](#Explore)\n",
        "* [The Vector Space Model and a Search Engine](#The-Vector-Space-Model-and-a-Search-Engine)\n",
        "    * [In Code](#In-Code)\n",
        "* [Naive Bayes](#Naive-Bayes)\n",
        "    * [Multinomial Naive Bayes and Other Likelihood Functions](#Multinomial-Naive-Bayes-and-Other-Likelihood-Functions)\n",
        "    * [Picking Hyperparameters for Naive Bayes and Text Maintenance](#Picking-Hyperparameters-for-Naive-Bayes-and-Text-Maintenance)\n",
        "* [Interpretation](#Interpretation)\n"
      ]
    },
    {
      "metadata": {
        "id": "YC_BnlgoIrEE",
        "colab_type": "text"
      },
      "cell_type": "markdown",
      "source": [
        "## Rotten Tomatoes Dataset"
      ]
    },
    {
      "metadata": {
        "id": "_a0Z68kkIrEG",
        "colab_type": "code",
        "outputId": "f956362c-7db5-4634-a922-1db0e6075057",
        "colab": {
          "base_uri": "https://localhost:8080/",
          "height": 195
        }
      },
      "cell_type": "code",
      "source": [
        "critics = pd.read_csv('https://raw.githubusercontent.com/jeydion/springboard/master/critics.csv')\n",
        "#let's drop rows with missing quotes\n",
        "critics = critics[~critics.quote.isnull()]\n",
        "critics.head()"
      ],
      "execution_count": 2,
      "outputs": [
        {
          "output_type": "execute_result",
          "data": {
            "text/html": [
              "<div>\n",
              "<style scoped>\n",
              "    .dataframe tbody tr th:only-of-type {\n",
              "        vertical-align: middle;\n",
              "    }\n",
              "\n",
              "    .dataframe tbody tr th {\n",
              "        vertical-align: top;\n",
              "    }\n",
              "\n",
              "    .dataframe thead th {\n",
              "        text-align: right;\n",
              "    }\n",
              "</style>\n",
              "<table border=\"1\" class=\"dataframe\">\n",
              "  <thead>\n",
              "    <tr style=\"text-align: right;\">\n",
              "      <th></th>\n",
              "      <th>critic</th>\n",
              "      <th>fresh</th>\n",
              "      <th>imdb</th>\n",
              "      <th>publication</th>\n",
              "      <th>quote</th>\n",
              "      <th>review_date</th>\n",
              "      <th>rtid</th>\n",
              "      <th>title</th>\n",
              "    </tr>\n",
              "  </thead>\n",
              "  <tbody>\n",
              "    <tr>\n",
              "      <th>1</th>\n",
              "      <td>Derek Adams</td>\n",
              "      <td>fresh</td>\n",
              "      <td>114709</td>\n",
              "      <td>Time Out</td>\n",
              "      <td>So ingenious in concept, design and execution ...</td>\n",
              "      <td>2009-10-04</td>\n",
              "      <td>9559</td>\n",
              "      <td>Toy story</td>\n",
              "    </tr>\n",
              "    <tr>\n",
              "      <th>2</th>\n",
              "      <td>Richard Corliss</td>\n",
              "      <td>fresh</td>\n",
              "      <td>114709</td>\n",
              "      <td>TIME Magazine</td>\n",
              "      <td>The year's most inventive comedy.</td>\n",
              "      <td>2008-08-31</td>\n",
              "      <td>9559</td>\n",
              "      <td>Toy story</td>\n",
              "    </tr>\n",
              "    <tr>\n",
              "      <th>3</th>\n",
              "      <td>David Ansen</td>\n",
              "      <td>fresh</td>\n",
              "      <td>114709</td>\n",
              "      <td>Newsweek</td>\n",
              "      <td>A winning animated feature that has something ...</td>\n",
              "      <td>2008-08-18</td>\n",
              "      <td>9559</td>\n",
              "      <td>Toy story</td>\n",
              "    </tr>\n",
              "    <tr>\n",
              "      <th>4</th>\n",
              "      <td>Leonard Klady</td>\n",
              "      <td>fresh</td>\n",
              "      <td>114709</td>\n",
              "      <td>Variety</td>\n",
              "      <td>The film sports a provocative and appealing st...</td>\n",
              "      <td>2008-06-09</td>\n",
              "      <td>9559</td>\n",
              "      <td>Toy story</td>\n",
              "    </tr>\n",
              "    <tr>\n",
              "      <th>5</th>\n",
              "      <td>Jonathan Rosenbaum</td>\n",
              "      <td>fresh</td>\n",
              "      <td>114709</td>\n",
              "      <td>Chicago Reader</td>\n",
              "      <td>An entertaining computer-generated, hyperreali...</td>\n",
              "      <td>2008-03-10</td>\n",
              "      <td>9559</td>\n",
              "      <td>Toy story</td>\n",
              "    </tr>\n",
              "  </tbody>\n",
              "</table>\n",
              "</div>"
            ],
            "text/plain": [
              "               critic  fresh    imdb     publication                                              quote review_date  rtid      title\n",
              "1         Derek Adams  fresh  114709        Time Out  So ingenious in concept, design and execution ...  2009-10-04  9559  Toy story\n",
              "2     Richard Corliss  fresh  114709   TIME Magazine                  The year's most inventive comedy.  2008-08-31  9559  Toy story\n",
              "3         David Ansen  fresh  114709        Newsweek  A winning animated feature that has something ...  2008-08-18  9559  Toy story\n",
              "4       Leonard Klady  fresh  114709         Variety  The film sports a provocative and appealing st...  2008-06-09  9559  Toy story\n",
              "5  Jonathan Rosenbaum  fresh  114709  Chicago Reader  An entertaining computer-generated, hyperreali...  2008-03-10  9559  Toy story"
            ]
          },
          "metadata": {
            "tags": []
          },
          "execution_count": 2
        }
      ]
    },
    {
      "metadata": {
        "id": "5BrNv_TqIrEM",
        "colab_type": "text"
      },
      "cell_type": "markdown",
      "source": [
        "### Explore"
      ]
    },
    {
      "metadata": {
        "id": "mJWSK6bmIrEO",
        "colab_type": "code",
        "outputId": "2aeaef5d-0f64-4a27-c910-4ae07f44c52f",
        "colab": {
          "base_uri": "https://localhost:8080/",
          "height": 70
        }
      },
      "cell_type": "code",
      "source": [
        "n_reviews = len(critics)\n",
        "n_movies = critics.rtid.unique().size\n",
        "n_critics = critics.critic.unique().size\n",
        "\n",
        "\n",
        "print(\"Number of reviews: {:d}\".format(n_reviews))\n",
        "print(\"Number of critics: {:d}\".format(n_critics))\n",
        "print(\"Number of movies:  {:d}\".format(n_movies))"
      ],
      "execution_count": 3,
      "outputs": [
        {
          "output_type": "stream",
          "text": [
            "Number of reviews: 15561\n",
            "Number of critics: 623\n",
            "Number of movies:  1921\n"
          ],
          "name": "stdout"
        }
      ]
    },
    {
      "metadata": {
        "id": "xCJyeX7KIrEV",
        "colab_type": "code",
        "outputId": "66129794-8404-43aa-af18-15664b313fe0",
        "colab": {
          "base_uri": "https://localhost:8080/",
          "height": 556
        }
      },
      "cell_type": "code",
      "source": [
        "df = critics.copy()\n",
        "df['fresh'] = df.fresh == 'fresh'\n",
        "grp = df.groupby('critic')\n",
        "counts = grp.critic.count()  # number of reviews by each critic\n",
        "means = grp.fresh.mean()     # average freshness for each critic\n",
        "\n",
        "means[counts > 100].hist(bins=10, edgecolor='w', lw=1)\n",
        "plt.xlabel(\"Average Rating per critic\")\n",
        "plt.ylabel(\"Number of Critics\")\n",
        "plt.yticks([0, 2, 4, 6, 8, 10]);"
      ],
      "execution_count": 4,
      "outputs": [
        {
          "output_type": "display_data",
          "data": {
            "image/png": "[encoded data removed]",
            "text/plain": [
              "<Figure size 921.6x633.6 with 1 Axes>"
            ]
          },
          "metadata": {
            "tags": []
          }
        }
      ]
    },
    {
      "metadata": {
        "id": "8a1ZkBqhIrEb",
        "colab_type": "text"
      },
      "cell_type": "markdown",
      "source": [
        "<div class=\"span5 alert alert-info\">\n",
        "<h3>Exercise Set I</h3>\n",
        "<br/>\n",
        "<b>Exercise:</b> Look at the histogram above. Tell a story about the average ratings per critic. What shape does the distribution look like? What is interesting about the distribution? What might explain these interesting things?\n",
        "</div>"
      ]
    },
    {
      "metadata": {
        "id": "Xd1P40B7QcXy",
        "colab_type": "text"
      },
      "cell_type": "markdown",
      "source": [
        "The histogram shows that the mean rating for a critic is about 0.6 and that the ratings are skewed to the higher end (left-tailed). This showst that critics tend to rate each other highly. Since their reviews are all public and weighted against each other, this graph could show that there's a pretty robust self-selection system in place with the critics. This is further supported by the clear gap in ratings from 0.4 - 0.6. "
      ]
    },
    {
      "metadata": {
        "id": "9_z4imQ-IrEd",
        "colab_type": "text"
      },
      "cell_type": "markdown",
      "source": [
        "## The Vector Space Model and a Search Engine"
      ]
    },
    {
      "metadata": {
        "id": "gmeFV3WgIrEg",
        "colab_type": "text"
      },
      "cell_type": "markdown",
      "source": [
        "All the diagrams here are snipped from [*Introduction to Information Retrieval* by Manning et. al.]( http://nlp.stanford.edu/IR-book/) which is a great resource on text processing. For additional information on text mining and natural language processing, see [*Foundations of Statistical Natural Language Processing* by Manning and Schutze](http://nlp.stanford.edu/fsnlp/).\n",
        "\n",
        "Also check out Python packages [`nltk`](http://www.nltk.org/), [`spaCy`](https://spacy.io/), [`pattern`](http://www.clips.ua.ac.be/pattern), and their associated resources. Also see [`word2vec`](https://en.wikipedia.org/wiki/Word2vec).\n",
        "\n",
        "Let us define the vector derived from document $d$ by $\\bar V(d)$. What does this mean? Each document is treated as a vector containing information about the words contained in it. Each vector has the same length and each entry \"slot\" in the vector contains some kind of data about the words that appear in the document such as presence/absence (1/0), count (an integer) or some other statistic. Each vector has the same length because each document shared the same vocabulary across the full collection of documents -- this collection is called a *corpus*.\n",
        "\n",
        "To define the vocabulary, we take a union of all words we have seen in all documents. We then just associate an array index with them. So \"hello\" may be at index 5 and \"world\" at index 99.\n",
        "\n",
        "Suppose we have the following corpus:\n",
        "\n",
        "`A Fox one day spied a beautiful bunch of ripe grapes hanging from a vine trained along the branches of a tree. The grapes seemed ready to burst with juice, and the Fox's mouth watered as he gazed longingly at them.`\n",
        "\n",
        "Suppose we treat each sentence as a document $d$. The vocabulary (often called the *lexicon*) is the following:\n",
        "\n",
        "$V = \\left\\{\\right.$ `a, along, and, as, at, beautiful, branches, bunch, burst, day, fox, fox's, from, gazed, grapes, hanging, he, juice, longingly, mouth, of, one, ready, ripe, seemed, spied, the, them, to, trained, tree, vine, watered, with`$\\left.\\right\\}$\n",
        "\n",
        "Then the document\n",
        "\n",
        "`A Fox one day spied a beautiful bunch of ripe grapes hanging from a vine trained along the branches of a tree`\n",
        "\n",
        "may be represented as the following sparse vector of word counts:\n",
        "\n",
        "$$\\bar V(d) = \\left( 4,1,0,0,0,1,1,1,0,1,1,0,1,0,1,1,0,0,0,0,2,1,0,1,0,0,1,0,0,1,1,1,0,0 \\right)$$\n",
        "\n",
        "or more succinctly as\n",
        "\n",
        "`[(0, 4), (1, 1), (5, 1), (6, 1), (7, 1), (9, 1), (10, 1), (12, 1), (14, 1), (15, 1), (20, 2), (21, 1), (23, 1),`\n",
        "`(26, 1), (29,1), (30, 1), (31, 1)]`\n",
        "\n",
        "along with a dictionary\n",
        "\n",
        "``\n",
        "{\n",
        "    0: a, 1: along, 5: beautiful, 6: branches, 7: bunch, 9: day, 10: fox, 12: from, 14: grapes, 15: hanging, 19: mouth, 20: of, 21: one, 23: ripe, 24: seemed, 25: spied, 26: the, 29:trained, 30: tree, 31: vine, \n",
        "}\n",
        "``\n",
        "\n",
        "Then, a set of documents becomes, in the usual `sklearn` style, a sparse matrix with rows being sparse arrays representing documents and columns representing the features/words in the vocabulary.\n",
        "\n",
        "Notice that this representation loses the relative ordering of the terms in the document. That is \"cat ate rat\" and \"rat ate cat\" are the same. Thus, this representation is also known as the Bag-Of-Words representation.\n",
        "\n",
        "Here is another example, from the book quoted above, although the matrix is transposed here so that documents are columns:\n",
        "\n",
        "![novel terms](terms.png)\n",
        "\n",
        "Such a matrix is also catted a Term-Document Matrix. Here, the terms being indexed could be stemmed before indexing; for instance, `jealous` and `jealousy` after stemming are the same feature. One could also make use of other \"Natural Language Processing\" transformations in constructing the vocabulary. We could use Lemmatization, which reduces words to lemmas: work, working, worked would all reduce to work. We could remove \"stopwords\" from our vocabulary, such as common words like \"the\". We could look for particular parts of speech, such as adjectives. This is often done in Sentiment Analysis. And so on. It all depends on our application.\n",
        "\n",
        "From the book:\n",
        ">The standard way of quantifying the similarity between two documents $d_1$ and $d_2$  is to compute the cosine similarity of their vector representations $\\bar V(d_1)$ and $\\bar V(d_2)$:\n",
        "\n",
        "$$S_{12} = \\frac{\\bar V(d_1) \\cdot \\bar V(d_2)}{|\\bar V(d_1)| \\times |\\bar V(d_2)|}$$\n",
        "\n",
        "![Vector Space Model](vsm.png)\n",
        "\n",
        "\n",
        ">There is a far more compelling reason to represent documents as vectors: we can also view a query as a vector. Consider the query q = jealous gossip. This query turns into the unit vector $\\bar V(q)$ = (0, 0.707, 0.707) on the three coordinates below. \n",
        "\n",
        "![novel terms](terms2.png)\n",
        "\n",
        ">The key idea now: to assign to each document d a score equal to the dot product:\n",
        "\n",
        "$$\\bar V(q) \\cdot \\bar V(d)$$\n",
        "\n",
        "Then we can use this simple Vector Model as a Search engine."
      ]
    },
    {
      "metadata": {
        "id": "IqOIc6jlIrEi",
        "colab_type": "text"
      },
      "cell_type": "markdown",
      "source": [
        "### In Code"
      ]
    },
    {
      "metadata": {
        "id": "LYCA7KBMIrEj",
        "colab_type": "code",
        "colab": {
          "base_uri": "https://localhost:8080/",
          "height": 228
        },
        "outputId": "e93e14e5-0329-4358-b464-2a214646c236"
      },
      "cell_type": "code",
      "source": [
        "from sklearn.feature_extraction.text import CountVectorizer\n",
        "\n",
        "text = ['Hop on pop', 'Hop off pop', 'Hop Hop hop']\n",
        "print(\"Original text is\\n{}\".format('\\n'.join(text)))\n",
        "\n",
        "vectorizer = CountVectorizer(min_df=0)\n",
        "\n",
        "# call `fit` to build the vocabulary\n",
        "vectorizer.fit(text)\n",
        "\n",
        "# call `transform` to convert text to a bag of words\n",
        "x = vectorizer.transform(text)\n",
        "\n",
        "# CountVectorizer uses a sparse array to save memory, but it's easier in this assignment to \n",
        "# convert back to a \"normal\" numpy array\n",
        "x = x.toarray()\n",
        "\n",
        "print(\"\")\n",
        "print(\"Transformed text vector is \\n{}\".format(x))\n",
        "\n",
        "# `get_feature_names` tracks which word is associated with each column of the transformed x\n",
        "print(\"\")\n",
        "print(\"Words for each feature:\")\n",
        "print(vectorizer.get_feature_names())\n",
        "\n",
        "# Notice that the bag of words treatment doesn't preserve information about the *order* of words, \n",
        "# just their frequency"
      ],
      "execution_count": 5,
      "outputs": [
        {
          "output_type": "stream",
          "text": [
            "Original text is\n",
            "Hop on pop\n",
            "Hop off pop\n",
            "Hop Hop hop\n",
            "\n",
            "Transformed text vector is \n",
            "[[1 0 1 1]\n",
            " [1 1 0 1]\n",
            " [3 0 0 0]]\n",
            "\n",
            "Words for each feature:\n",
            "[u'hop', u'off', u'on', u'pop']\n"
          ],
          "name": "stdout"
        }
      ]
    },
    {
      "metadata": {
        "id": "pGBozZFeIrEr",
        "colab_type": "code",
        "colab": {}
      },
      "cell_type": "code",
      "source": [
        "def make_xy(critics, vectorizer=None):\n",
        "    #Your code here    \n",
        "    if vectorizer is None:\n",
        "        vectorizer = CountVectorizer()\n",
        "    X = vectorizer.fit_transform(critics.quote)\n",
        "    X = X.tocsc()  # some versions of sklearn return COO format\n",
        "    y = (critics.fresh == 'fresh').values.astype(np.int)\n",
        "    return X, y\n",
        "X, y = make_xy(critics)"
      ],
      "execution_count": 0,
      "outputs": []
    },
    {
      "metadata": {
        "id": "VeLrYqYoIrFE",
        "colab_type": "text"
      },
      "cell_type": "markdown",
      "source": [
        "## Naive Bayes"
      ]
    },
    {
      "metadata": {
        "id": "BOf9BKLDIrFL",
        "colab_type": "text"
      },
      "cell_type": "markdown",
      "source": [
        "From Bayes' Theorem, we have that\n",
        "\n",
        "$$P(c \\vert f) = \\frac{P(c \\cap f)}{P(f)}$$\n",
        "\n",
        "where $c$ represents a *class* or category, and $f$ represents a feature vector, such as $\\bar V(d)$ as above. **We are computing the probability that a document (or whatever we are classifying) belongs to category *c* given the features in the document.** $P(f)$ is really just a normalization constant, so the literature usually writes Bayes' Theorem in context of Naive Bayes as\n",
        "\n",
        "$$P(c \\vert f) \\propto P(f \\vert c) P(c) $$\n",
        "\n",
        "$P(c)$ is called the *prior* and is simply the probability of seeing class $c$. But what is $P(f \\vert c)$? This is the probability that we see feature set $f$ given that this document is actually in class $c$. This is called the *likelihood* and comes from the data. One of the major assumptions of the Naive Bayes model is that the features are *conditionally independent* given the class. While the presence of a particular discriminative word may uniquely identify the document as being part of class $c$ and thus violate general feature independence, conditional independence means that the presence of that term is independent of all the other words that appear *within that class*. This is a very important distinction. Recall that if two events are independent, then:\n",
        "\n",
        "$$P(A \\cap B) = P(A) \\cdot P(B)$$\n",
        "\n",
        "Thus, conditional independence implies\n",
        "\n",
        "$$P(f \\vert c)  = \\prod_i P(f_i | c) $$\n",
        "\n",
        "where $f_i$ is an individual feature (a word in this example).\n",
        "\n",
        "To make a classification, we then choose the class $c$ such that $P(c \\vert f)$ is maximal.\n",
        "\n",
        "There is a small caveat when computing these probabilities. For [floating point underflow](http://nlp.stanford.edu/IR-book/html/htmledition/naive-bayes-text-classification-1.html) we change the product into a sum by going into log space. This is called the LogSumExp trick. So:\n",
        "\n",
        "$$\\log P(f \\vert c)  = \\sum_i \\log P(f_i \\vert c) $$\n",
        "\n",
        "There is another caveat. What if we see a term that didn't exist in the training data? This means that $P(f_i \\vert c) = 0$ for that term, and thus $P(f \\vert c)  = \\prod_i P(f_i | c) = 0$, which doesn't help us at all. Instead of using zeros, we add a small negligible value called $\\alpha$ to each count. This is called Laplace Smoothing.\n",
        "\n",
        "$$P(f_i \\vert c) = \\frac{N_{ic}+\\alpha}{N_c + \\alpha N_i}$$\n",
        "\n",
        "where $N_{ic}$ is the number of times feature $i$ was seen in class $c$, $N_c$ is the number of times class $c$ was seen and $N_i$ is the number of times feature $i$ was seen globally. $\\alpha$ is sometimes called a regularization parameter."
      ]
    },
    {
      "metadata": {
        "id": "7YvObRofIrFR",
        "colab_type": "text"
      },
      "cell_type": "markdown",
      "source": [
        "### Multinomial Naive Bayes and Other Likelihood Functions\n",
        "\n",
        "Since we are modeling word counts, we are using variation of Naive Bayes called Multinomial Naive Bayes. This is because the likelihood function actually takes the form of the multinomial distribution.\n",
        "\n",
        "$$P(f \\vert c) = \\frac{\\left( \\sum_i f_i \\right)!}{\\prod_i f_i!} \\prod_{f_i} P(f_i \\vert c)^{f_i} \\propto \\prod_{i} P(f_i \\vert c)$$\n",
        "\n",
        "where the nasty term out front is absorbed as a normalization constant such that probabilities sum to 1.\n",
        "\n",
        "There are many other variations of Naive Bayes, all which depend on what type of value $f_i$ takes. If $f_i$ is continuous, we may be able to use *Gaussian Naive Bayes*. First compute the mean and variance for each class $c$. Then the likelihood, $P(f \\vert c)$ is given as follows\n",
        "\n",
        "$$P(f_i = v \\vert c) = \\frac{1}{\\sqrt{2\\pi \\sigma^2_c}} e^{- \\frac{\\left( v - \\mu_c \\right)^2}{2 \\sigma^2_c}}$$"
      ]
    },
    {
      "metadata": {
        "id": "oGd3otjfIrFV",
        "colab_type": "text"
      },
      "cell_type": "markdown",
      "source": [
        "<div class=\"span5 alert alert-info\">\n",
        "<h3>Exercise Set II</h3>\n",
        "\n",
        "<p><b>Exercise:</b> Implement a simple Naive Bayes classifier:</p>\n",
        "\n",
        "<ol>\n",
        "<li> split the data set into a training and test set\n",
        "<li> Use `scikit-learn`'s `MultinomialNB()` classifier with default parameters.\n",
        "<li> train the classifier over the training set and test on the test set\n",
        "<li> print the accuracy scores for both the training and the test sets\n",
        "</ol>\n",
        "\n",
        "What do you notice? Is this a good classifier? If not, why not?\n",
        "</div>"
      ]
    },
    {
      "metadata": {
        "id": "uLizgrWyIrFZ",
        "colab_type": "code",
        "colab": {
          "base_uri": "https://localhost:8080/",
          "height": 70
        },
        "outputId": "d0b3a589-503e-4d40-dcc0-23c049ceeaad"
      },
      "cell_type": "code",
      "source": [
        "#your turn\n",
        "from sklearn.naive_bayes import MultinomialNB\n",
        "from sklearn.model_selection import train_test_split\n",
        "\n",
        "def make_xy(critics, vectorizer=None):\n",
        "    if vectorizer is None:\n",
        "        vectorizer = CountVectorizer()\n",
        "    X = vectorizer.fit_transform(critics.quote)\n",
        "    X = X.tocsc()  # some versions of sklearn return COO format\n",
        "    y = (critics.fresh == 'fresh').values.astype(np.int)\n",
        "    return X, y\n",
        "X, y = make_xy(critics)\n",
        "\n",
        "xtrain, xtest, ytrain, ytest = train_test_split(X, y)\n",
        "clf = MultinomialNB().fit(xtrain, ytrain)\n",
        "print \"MN Accuracy: %0.2f%%\" % (100 * clf.score(xtest, ytest))\n",
        "\n",
        "\n",
        "training_accuracy = clf.score(xtrain, ytrain)\n",
        "test_accuracy = clf.score(xtest, ytest)\n",
        "\n",
        "print \"Accuracy on training data: %0.2f\" % (training_accuracy)\n",
        "print \"Accuracy on test data:     %0.2f\" % (test_accuracy)\n"
      ],
      "execution_count": 7,
      "outputs": [
        {
          "output_type": "stream",
          "text": [
            "MN Accuracy: 77.72%\n",
            "Accuracy on training data: 0.92\n",
            "Accuracy on test data:     0.78\n"
          ],
          "name": "stdout"
        }
      ]
    },
    {
      "metadata": {
        "id": "udwPXq2iGIg7",
        "colab_type": "text"
      },
      "cell_type": "markdown",
      "source": [
        "This is not a good classifier as it shows it is proned to overfitting.  "
      ]
    },
    {
      "metadata": {
        "id": "pzZfw-dCIrFk",
        "colab_type": "text"
      },
      "cell_type": "markdown",
      "source": [
        "### Picking Hyperparameters for Naive Bayes and Text Maintenance"
      ]
    },
    {
      "metadata": {
        "id": "XGXiV5R4IrFo",
        "colab_type": "text"
      },
      "cell_type": "markdown",
      "source": [
        "We need to know what value to use for $\\alpha$, and we also need to know which words to include in the vocabulary. As mentioned earlier, some words are obvious stopwords. Other words appear so infrequently that they serve as noise, and other words in addition to stopwords appear so frequently that they may also serve as noise."
      ]
    },
    {
      "metadata": {
        "id": "WffnKt3wIrFs",
        "colab_type": "text"
      },
      "cell_type": "markdown",
      "source": [
        "First, let's find an appropriate value for `min_df` for the `CountVectorizer`. `min_df` can be either an integer or a float/decimal. If it is an integer, `min_df` represents the minimum number of documents a word must appear in for it to be included in the vocabulary. If it is a float, it represents the minimum *percentage* of documents a word must appear in to be included in the vocabulary. From the documentation:"
      ]
    },
    {
      "metadata": {
        "id": "V_UZtw_KIrFw",
        "colab_type": "text"
      },
      "cell_type": "markdown",
      "source": [
        ">min_df: When building the vocabulary ignore terms that have a document frequency strictly lower than the given threshold. This value is also called cut-off in the literature. If float, the parameter represents a proportion of documents, integer absolute counts. This parameter is ignored if vocabulary is not None."
      ]
    },
    {
      "metadata": {
        "id": "QqFD2qpUIrF0",
        "colab_type": "text"
      },
      "cell_type": "markdown",
      "source": [
        "<div class=\"span5 alert alert-info\">\n",
        "<h3>Exercise Set III</h3>\n",
        "\n",
        "<p><b>Exercise:</b> Construct the cumulative distribution of document frequencies (df). The $x$-axis is a document count $x_i$ and the $y$-axis is the percentage of words that appear less than $x_i$ times. For example, at $x=5$, plot a point representing the percentage or number of words that appear in 5 or fewer documents.</p>\n",
        "\n",
        "<p><b>Exercise:</b> Look for the point at which the curve begins climbing steeply. This may be a good value for `min_df`. If we were interested in also picking `max_df`, we would likely pick the value where the curve starts to plateau. What value did you choose?</p>\n",
        "</div>"
      ]
    },
    {
      "metadata": {
        "id": "3E4wiIh_IrF4",
        "colab_type": "code",
        "colab": {
          "base_uri": "https://localhost:8080/",
          "height": 52
        },
        "outputId": "9d58e6bd-e7a8-4e38-9bf5-6980546c54ae"
      },
      "cell_type": "code",
      "source": [
        "# Your turn.\n",
        "\n",
        "X, y = make_xy(critics)\n",
        "print(X.shape)\n",
        "print(y.shape)"
      ],
      "execution_count": 14,
      "outputs": [
        {
          "output_type": "stream",
          "text": [
            "(15561, 22417)\n",
            "(15561,)\n"
          ],
          "name": "stdout"
        }
      ]
    },
    {
      "metadata": {
        "id": "QnTEoYTD-2r2",
        "colab_type": "code",
        "colab": {
          "base_uri": "https://localhost:8080/",
          "height": 575
        },
        "outputId": "40fc59ff-facd-42ca-b4e0-0e207b82e601"
      },
      "cell_type": "code",
      "source": [
        "docfreq = sorted((X > 0).sum(axis=0).tolist()[0])\n",
        "_ = plt.hist(pd.Series(docfreq), np.arange(pd.Series(docfreq).sum()), cumulative=True, histtype='step', density=True)\n",
        "_ = plt.title('CDF of DF')\n",
        "_ = plt.xlabel('Document Frequency')\n",
        "_ = plt.ylabel('Percentage of words that appear in x or fewer documents')\n",
        "_ = plt.xlim(-1,100)"
      ],
      "execution_count": 15,
      "outputs": [
        {
          "output_type": "display_data",
          "data": {
            "image/png": "[encoded data removed]",
            "text/plain": [
              "<Figure size 921.6x633.6 with 1 Axes>"
            ]
          },
          "metadata": {
            "tags": []
          }
        }
      ]
    },
    {
      "metadata": {
        "id": "7Zsk91n5Bs5Z",
        "colab_type": "code",
        "colab": {
          "base_uri": "https://localhost:8080/",
          "height": 575
        },
        "outputId": "4d6b7f18-51d6-49ec-bbbf-f8efdb25a1e7"
      },
      "cell_type": "code",
      "source": [
        "\n",
        "_ = plt.hist(docfreq, np.arange(pd.Series(docfreq).sum()), cumulative=True, histtype='step', density=True)\n",
        "_ = plt.title('CDF Zoomed in on Low DFs')\n",
        "_ = plt.xlabel('Document Frequency')\n",
        "_ = plt.ylabel('Percentage of words that appear in x or fewer documents')\n",
        "_ = plt.xlim(0,10)"
      ],
      "execution_count": 16,
      "outputs": [
        {
          "output_type": "display_data",
          "data": {
            "image/png": "[encoded data removed]",
            "text/plain": [
              "<Figure size 921.6x633.6 with 1 Axes>"
            ]
          },
          "metadata": {
            "tags": []
          }
        }
      ]
    },
    {
      "metadata": {
        "id": "3ERaYGm_C2jC",
        "colab_type": "text"
      },
      "cell_type": "markdown",
      "source": [
        "Based on visual inspection the min_df = 1 and max_df = 20. "
      ]
    },
    {
      "metadata": {
        "id": "BwpEF9cUIrGE",
        "colab_type": "text"
      },
      "cell_type": "markdown",
      "source": [
        "The parameter $\\alpha$ is chosen to be a small value that simply avoids having zeros in the probability computations. This value can sometimes be chosen arbitrarily with domain expertise, but we will use K-fold cross validation. In K-fold cross-validation, we divide the data into $K$ non-overlapping parts. We train on $K-1$ of the folds and test on the remaining fold. We then iterate, so that each fold serves as the test fold exactly once. The function `cv_score` performs the K-fold cross-validation algorithm for us, but we need to pass a function that measures the performance of the algorithm on each fold. "
      ]
    },
    {
      "metadata": {
        "id": "-9o9Se5AIrGH",
        "colab_type": "code",
        "colab": {}
      },
      "cell_type": "code",
      "source": [
        "from sklearn.model_selection import KFold\n",
        "def cv_score(clf, X, y, scorefunc):\n",
        "    result = 0.\n",
        "    nfold = 5\n",
        "    for train, test in KFold(nfold).split(X): # split data into train/test groups, 5 times\n",
        "        clf.fit(X[train], y[train]) # fit the classifier, passed is as clf.\n",
        "        result += scorefunc(clf, X[test], y[test]) # evaluate score function on held-out data\n",
        "    return result / nfold # average"
      ],
      "execution_count": 0,
      "outputs": []
    },
    {
      "metadata": {
        "id": "fQz_OVSwIrGM",
        "colab_type": "text"
      },
      "cell_type": "markdown",
      "source": [
        "We use the log-likelihood as the score here in `scorefunc`. The higher the log-likelihood, the better. Indeed, what we do in `cv_score` above is to implement the cross-validation part of `GridSearchCV`.\n",
        "\n",
        "The custom scoring function `scorefunc` allows us to use different metrics depending on the decision risk we care about (precision, accuracy, profit etc.) directly on the validation set. You will often find people using `roc_auc`, precision, recall, or `F1-score` as the scoring function."
      ]
    },
    {
      "metadata": {
        "id": "4HWA0Th5IrGO",
        "colab_type": "code",
        "colab": {}
      },
      "cell_type": "code",
      "source": [
        "def log_likelihood(clf, x, y):\n",
        "    prob = clf.predict_log_proba(x)\n",
        "    rotten = y == 0\n",
        "    fresh = ~rotten\n",
        "    return prob[rotten, 0].sum() + prob[fresh, 1].sum()"
      ],
      "execution_count": 0,
      "outputs": []
    },
    {
      "metadata": {
        "id": "ocKhkH7nIrGW",
        "colab_type": "text"
      },
      "cell_type": "markdown",
      "source": [
        "We'll cross-validate over the regularization parameter $\\alpha$."
      ]
    },
    {
      "metadata": {
        "id": "Q5fRz5eMIrGY",
        "colab_type": "text"
      },
      "cell_type": "markdown",
      "source": [
        "Let's set up the train and test masks first, and then we can run the cross-validation procedure."
      ]
    },
    {
      "metadata": {
        "id": "4wmT3gZjIrGa",
        "colab_type": "code",
        "outputId": "f3ddd8f3-8039-44c6-c625-7be7e164cfb9",
        "colab": {
          "base_uri": "https://localhost:8080/",
          "height": 72
        }
      },
      "cell_type": "code",
      "source": [
        "from sklearn.model_selection import train_test_split\n",
        "_, itest = train_test_split(range(critics.shape[0]), train_size=0.7)\n",
        "mask = np.zeros(critics.shape[0], dtype=np.bool)\n",
        "mask[itest] = True"
      ],
      "execution_count": 10,
      "outputs": [
        {
          "output_type": "stream",
          "text": [
            "/usr/local/lib/python2.7/dist-packages/sklearn/model_selection/_split.py:2179: FutureWarning: From version 0.21, test_size will always complement train_size unless both are specified.\n",
            "  FutureWarning)\n"
          ],
          "name": "stderr"
        }
      ]
    },
    {
      "metadata": {
        "id": "YPuA8EXdIrGr",
        "colab_type": "text"
      },
      "cell_type": "markdown",
      "source": [
        "<div class=\"span5 alert alert-info\">\n",
        "<h3>Exercise Set IV</h3>\n",
        "\n",
        "<p><b>Exercise:</b> What does using the function `log_likelihood` as the score mean? What are we trying to optimize for?</p>\n",
        "\n",
        "<p><b>Exercise:</b> Without writing any code, what do you think would happen if you choose a value of $\\alpha$ that is too high?</p>\n",
        "\n",
        "<p><b>Exercise:</b> Using the skeleton code below, find the best values of the parameter `alpha`, and use the value of `min_df` you chose in the previous exercise set. Use the `cv_score` function above with the `log_likelihood` function for scoring.</p>\n",
        "</div>"
      ]
    },
    {
      "metadata": {
        "id": "xeRD1K4MHRIX",
        "colab_type": "text"
      },
      "cell_type": "markdown",
      "source": [
        "Log-likelihood finds the maximum parameters for $\\alpha$ given the data. We are optimizing for the likelihood of finding the maximum parameters in order to find the class with the greatest probabilty. <br>\n",
        "\n",
        "\n",
        "An $\\alpha$ that is too large it will limit the small but substantial signals and will lower the performance of the classifier. "
      ]
    },
    {
      "metadata": {
        "id": "DdpVUU0xIrGt",
        "colab_type": "code",
        "colab": {}
      },
      "cell_type": "code",
      "source": [
        "from sklearn.naive_bayes import MultinomialNB\n",
        "\n",
        "#the grid of parameters to search over\n",
        "alphas = [.1, 1, 5, 10, 50]\n",
        "min_dfs = [1e-5, 1e-4, 1e-3, 1e-2, 1e-1]\n",
        "best_min_df = 1 # YOUR TURN: put your value of min_df here.\n",
        "\n",
        "#Find the best value for alpha and min_df, and the best classifier\n",
        "best_alpha = None\n",
        "best_min_df = None\n",
        "maxscore=-np.inf\n",
        "for alpha in alphas:\n",
        "    for min_df in min_dfs:         \n",
        "        vectorizer = CountVectorizer(min_df = min_df)       \n",
        "        Xthis, ythis = make_xy(critics, vectorizer)\n",
        "        Xtrainthis=Xthis[mask]\n",
        "        ytrainthis=ythis[mask]\n",
        "        #your code here\n",
        "        clf = MultinomialNB(alpha=alpha)\n",
        "        cvscore = cv_score(clf, Xtrainthis, ytrainthis, log_likelihood)\n",
        "\n",
        "        if cvscore > maxscore:\n",
        "            maxscore = cvscore\n",
        "            best_alpha, best_min_df = alpha, min_df"
      ],
      "execution_count": 0,
      "outputs": []
    },
    {
      "metadata": {
        "id": "5eR7ztFvIrGy",
        "colab_type": "code",
        "colab": {
          "base_uri": "https://localhost:8080/",
          "height": 34
        },
        "outputId": "d8deffd7-2044-4ed4-f9cd-152bef180ee6"
      },
      "cell_type": "code",
      "source": [
        "print(\"alpha: {}\".format(best_alpha))"
      ],
      "execution_count": 27,
      "outputs": [
        {
          "output_type": "stream",
          "text": [
            "alpha: 5\n"
          ],
          "name": "stdout"
        }
      ]
    },
    {
      "metadata": {
        "id": "zgAgRAP8IrG3",
        "colab_type": "text"
      },
      "cell_type": "markdown",
      "source": [
        "<div class=\"span5 alert alert-info\">\n",
        "<h3>Exercise Set V: Working with the Best Parameters</h3>\n",
        "\n",
        "<p><b>Exercise:</b> Using the best value of  `alpha` you just found, calculate the accuracy on the training and test sets. Is this classifier better? Why (not)?</p>\n",
        "\n",
        "</div>"
      ]
    },
    {
      "metadata": {
        "id": "vMUNyxNKIrG5",
        "colab_type": "code",
        "colab": {
          "base_uri": "https://localhost:8080/",
          "height": 52
        },
        "outputId": "4a7d1b47-76a8-4a20-a6c0-e231dafef1e6"
      },
      "cell_type": "code",
      "source": [
        "vectorizer = CountVectorizer(min_df=best_min_df)\n",
        "X, y = make_xy(critics, vectorizer)\n",
        "xtrain=X[mask]\n",
        "ytrain=y[mask]\n",
        "xtest=X[~mask]\n",
        "ytest=y[~mask]\n",
        "\n",
        "clf = MultinomialNB(alpha=best_alpha).fit(xtrain, ytrain)\n",
        "\n",
        "#your turn. Print the accuracy on the test and training dataset\n",
        "training_accuracy = clf.score(xtrain, ytrain)\n",
        "test_accuracy = clf.score(xtest, ytest)\n",
        "\n",
        "print(\"Accuracy on training data: {:2f}\".format(training_accuracy))\n",
        "print(\"Accuracy on test data:     {:2f}\".format(test_accuracy))"
      ],
      "execution_count": 28,
      "outputs": [
        {
          "output_type": "stream",
          "text": [
            "Accuracy on training data: 0.803598\n",
            "Accuracy on test data:     0.716856\n"
          ],
          "name": "stdout"
        }
      ]
    },
    {
      "metadata": {
        "id": "LtSBZN59IrG9",
        "colab_type": "code",
        "colab": {
          "base_uri": "https://localhost:8080/",
          "height": 52
        },
        "outputId": "7c21d06b-330e-4e31-81dd-9f799ba118bb"
      },
      "cell_type": "code",
      "source": [
        "from sklearn.metrics import confusion_matrix\n",
        "print(confusion_matrix(ytest, clf.predict(xtest)))"
      ],
      "execution_count": 29,
      "outputs": [
        {
          "output_type": "stream",
          "text": [
            "[[2057 2205]\n",
            " [ 879 5751]]\n"
          ],
          "name": "stdout"
        }
      ]
    },
    {
      "metadata": {
        "id": "8HDvfTKjLkLJ",
        "colab_type": "text"
      },
      "cell_type": "markdown",
      "source": [
        "The $\\alpha$ is not better because the accuracy score on the test data is lower than the training. This means that will an $\\alpha$ = 5 the classifier is prone to overfitting. "
      ]
    },
    {
      "metadata": {
        "id": "RgACE6LGIrHE",
        "colab_type": "text"
      },
      "cell_type": "markdown",
      "source": [
        "## Interpretation"
      ]
    },
    {
      "metadata": {
        "id": "kKb9xxFLIrHH",
        "colab_type": "text"
      },
      "cell_type": "markdown",
      "source": [
        "### What are the strongly predictive features?\n",
        "\n",
        "We use a neat trick to identify strongly predictive features (i.e. words). \n",
        "\n",
        "* first, create a data set such that each row has exactly one feature. This is represented by the identity matrix.\n",
        "* use the trained classifier to make predictions on this matrix\n",
        "* sort the rows by predicted probabilities, and pick the top and bottom $K$ rows"
      ]
    },
    {
      "metadata": {
        "id": "m2aHmqYjIrHK",
        "colab_type": "code",
        "colab": {
          "base_uri": "https://localhost:8080/",
          "height": 404
        },
        "outputId": "c31866f8-1163-444d-c29d-08763bb36df5"
      },
      "cell_type": "code",
      "source": [
        "words = np.array(vectorizer.get_feature_names())\n",
        "\n",
        "x = np.eye(xtest.shape[1])\n",
        "probs = clf.predict_log_proba(x)[:, 0]\n",
        "ind = np.argsort(probs)\n",
        "\n",
        "good_words = words[ind[:10]]\n",
        "bad_words = words[ind[-10:]]\n",
        "\n",
        "good_prob = probs[ind[:10]]\n",
        "bad_prob = probs[ind[-10:]]\n",
        "\n",
        "print(\"Good words\\t     P(fresh | word)\")\n",
        "for w, p in zip(good_words, good_prob):\n",
        "    print(\"{:>20}\".format(w), \"{:.2f}\".format(1 - np.exp(p)))\n",
        "    \n",
        "print(\"Bad words\\t     P(fresh | word)\")\n",
        "for w, p in zip(bad_words, bad_prob):\n",
        "    print(\"{:>20}\".format(w), \"{:.2f}\".format(1 - np.exp(p)))"
      ],
      "execution_count": 30,
      "outputs": [
        {
          "output_type": "stream",
          "text": [
            "Good words\t     P(fresh | word)\n",
            "('            touching', '0.85')\n",
            "('        entertaining', '0.85')\n",
            "('           memorable', '0.83')\n",
            "('              altman', '0.83')\n",
            "('            american', '0.82')\n",
            "('         masterpiece', '0.82')\n",
            "('              cinema', '0.82')\n",
            "('       entertainment', '0.82')\n",
            "('               smart', '0.82')\n",
            "('                ever', '0.82')\n",
            "Bad words\t     P(fresh | word)\n",
            "('              unless', '0.29')\n",
            "('           pointless', '0.29')\n",
            "('             problem', '0.28')\n",
            "('                lack', '0.27')\n",
            "('          uninspired', '0.26')\n",
            "('                lame', '0.26')\n",
            "('                dull', '0.25')\n",
            "('               bland', '0.24')\n",
            "('       unfortunately', '0.23')\n",
            "('                 bad', '0.20')\n"
          ],
          "name": "stdout"
        }
      ]
    },
    {
      "metadata": {
        "id": "QUNIjahKIrHP",
        "colab_type": "text"
      },
      "cell_type": "markdown",
      "source": [
        "<div class=\"span5 alert alert-info\">\n",
        "<h3>Exercise Set VI</h3>\n",
        "\n",
        "<p><b>Exercise:</b> Why does this method work? What does the probability for each row in the identity matrix represent</p>\n",
        "\n",
        "</div>"
      ]
    },
    {
      "metadata": {
        "id": "hRPU_Bp8IrHR",
        "colab_type": "text"
      },
      "cell_type": "markdown",
      "source": [
        "The above exercise is an example of *feature selection*. There are many other feature selection methods. A list of feature selection methods available in `sklearn` is [here](http://scikit-learn.org/stable/modules/classes.html#module-sklearn.feature_selection). The most common feature selection technique for text mining is the chi-squared $\\left( \\chi^2 \\right)$ [method](http://nlp.stanford.edu/IR-book/html/htmledition/feature-selectionchi2-feature-selection-1.html)."
      ]
    },
    {
      "metadata": {
        "id": "ZOj_KMybQ2zz",
        "colab_type": "text"
      },
      "cell_type": "markdown",
      "source": [
        "This method classifies the words that appear over a certain threshold ($\\alpha$) into their frequency with good or 'fresh' reviews and assigns a probability based on the data. The probability represents the typical score of the freshness review that the word would closest associated with. "
      ]
    },
    {
      "metadata": {
        "id": "bccZabkHIrHU",
        "colab_type": "text"
      },
      "cell_type": "markdown",
      "source": [
        "### Prediction Errors\n",
        "\n",
        "We can see mis-predictions as well."
      ]
    },
    {
      "metadata": {
        "id": "ku1yf6FNIrHW",
        "colab_type": "code",
        "colab": {
          "base_uri": "https://localhost:8080/",
          "height": 459
        },
        "outputId": "c2d20a6e-aeea-465b-dbf8-55f3b5c1f2a0"
      },
      "cell_type": "code",
      "source": [
        "x, y = make_xy(critics, vectorizer)\n",
        "\n",
        "prob = clf.predict_proba(x)[:, 0]\n",
        "predict = clf.predict(x)\n",
        "\n",
        "bad_rotten = np.argsort(prob[y == 0])[:5]\n",
        "bad_fresh = np.argsort(prob[y == 1])[-5:]\n",
        "\n",
        "print(\"Mis-predicted Rotten quotes\")\n",
        "print('---------------------------')\n",
        "for row in bad_rotten:\n",
        "    print(critics[y == 0].quote.iloc[row])\n",
        "    print(\"\")\n",
        "\n",
        "print(\"Mis-predicted Fresh quotes\")\n",
        "print('--------------------------')\n",
        "for row in bad_fresh:\n",
        "    print(critics[y == 1].quote.iloc[row])\n",
        "    print(\"\")"
      ],
      "execution_count": 31,
      "outputs": [
        {
          "output_type": "stream",
          "text": [
            "Mis-predicted Rotten quotes\n",
            "---------------------------\n",
            "Part comedy, part family drama, part romance, part special-effects mystery-adventure, and not entirely satisfying on any of these levels.\n",
            "\n",
            "Everytime I see one of these antiseptic Disney films, I'm reminded of the thrills and genuine artistry that went into the studio's films during its golden age in the 1940s and 1950s.\n",
            "\n",
            "With its feints at horror and pathos, the third Star Wars film is the most Disney-esque in its emotional outline, yet that outline is buried beneath an obnoxiously hyped-up pace that reduces the emotions to rubble.\n",
            "\n",
            "Directed with composure, but no great fervour, the film's conspicuously uninterested in American football, and much concerned with testing the limits and the resilience of the American dream.\n",
            "\n",
            "The thought that he may yet return for further adventures with his body and Lugosi's sconce fills us with mortal terror. That is the most fearful prospect which the picture manages to convey.\n",
            "\n",
            "Mis-predicted Fresh quotes\n",
            "--------------------------\n",
            "The repetitive plot is essentially a string of excuses for fantastical combat sequences, but somehow several characters' insistence that violence is bad doesn't come off as hypocritical.\n",
            "\n",
            "It's a one-joke movie, a funhouse ride, the cinematic equivalent of having a rubber spider thrown in your lap. But it doesn't matter if you reject the wispy script or the plot, which has as much substance as a spider's web; you'll jump every time.\n",
            "\n",
            "Things might be bad, the movie suggests, but they're not so bad you can't laugh.\n",
            "\n",
            "A good half-hour's worth of nonsense in the middle keeps Bad Boys from being little better than a break- even proposition.\n",
            "\n",
            "More of a cinematic joke book than a real movie, Spy Hard hits you with gags faster than Henny Youngman on speed. Even when individual bits misfire, the unrelenting barrage of silliness can break down your resistance.\n",
            "\n"
          ],
          "name": "stdout"
        }
      ]
    },
    {
      "metadata": {
        "id": "8qb_OgHlIrHg",
        "colab_type": "text"
      },
      "cell_type": "markdown",
      "source": [
        "<div class=\"span5 alert alert-info\">\n",
        "<h3>Exercise Set VII: Predicting the Freshness for a New Review</h3>\n",
        "<br/>\n",
        "<div>\n",
        "<b>Exercise:</b>\n",
        "<ul>\n",
        "<li> Using your best trained classifier, predict the freshness of the following sentence: *'This movie is not remarkable, touching, or superb in any way'*\n",
        "<li> Is the result what you'd expect? Why (not)?\n",
        "</ul>\n",
        "</div>\n",
        "</div>"
      ]
    },
    {
      "metadata": {
        "id": "lLd5HZEpIrHl",
        "colab_type": "code",
        "colab": {
          "base_uri": "https://localhost:8080/",
          "height": 34
        },
        "outputId": "fab1f0fa-69c2-499e-b579-e9b26b5cdef2"
      },
      "cell_type": "code",
      "source": [
        "#your turn\n",
        "doc = ['This movie is not remarkable, touching, or superb in any way']\n",
        "Xdoc = vectorizer.transform(doc)\n",
        "Xdoc.shape"
      ],
      "execution_count": 32,
      "outputs": [
        {
          "output_type": "execute_result",
          "data": {
            "text/plain": [
              "(1, 2120)"
            ]
          },
          "metadata": {
            "tags": []
          },
          "execution_count": 32
        }
      ]
    },
    {
      "metadata": {
        "id": "hBNfFcaiTcF_",
        "colab_type": "code",
        "colab": {
          "base_uri": "https://localhost:8080/",
          "height": 34
        },
        "outputId": "58c45f2a-3c27-4e11-d2fa-3ee1d3fa59d8"
      },
      "cell_type": "code",
      "source": [
        "predict = clf.predict(Xdoc)\n",
        "print(predict)"
      ],
      "execution_count": 33,
      "outputs": [
        {
          "output_type": "stream",
          "text": [
            "[1]\n"
          ],
          "name": "stdout"
        }
      ]
    },
    {
      "metadata": {
        "id": "Exk73DSwTvrK",
        "colab_type": "code",
        "colab": {
          "base_uri": "https://localhost:8080/",
          "height": 34
        },
        "outputId": "ac17f02e-702e-4adb-c9d8-9c8bf8a75838"
      },
      "cell_type": "code",
      "source": [
        "print(clf.predict_proba(Xdoc))\n"
      ],
      "execution_count": 34,
      "outputs": [
        {
          "output_type": "stream",
          "text": [
            "[[0.04870401 0.95129599]]\n"
          ],
          "name": "stdout"
        }
      ]
    },
    {
      "metadata": {
        "id": "ZntnS7cqUFSE",
        "colab_type": "text"
      },
      "cell_type": "markdown",
      "source": [
        "This classifier classified this sentence as 95% rating. It is clearly inaccurate at this specfic prediction because the classifier was only trained on this one sentence and doesn't have the data to properly classify negative words. "
      ]
    },
    {
      "metadata": {
        "id": "r7psZU-nIrHr",
        "colab_type": "text"
      },
      "cell_type": "markdown",
      "source": [
        "### Aside: TF-IDF Weighting for Term Importance\n",
        "\n",
        "TF-IDF stands for \n",
        "\n",
        "`Term-Frequency X Inverse Document Frequency`.\n",
        "\n",
        "In the standard `CountVectorizer` model above, we used just the term frequency in a document of words in our vocabulary. In TF-IDF, we weight this term frequency by the inverse of its popularity in all documents. For example, if the word \"movie\" showed up in all the documents, it would not have much predictive value. It could actually be considered a stopword. By weighing its counts by 1 divided by its overall frequency, we downweight it. We can then use this TF-IDF weighted features as inputs to any classifier. **TF-IDF is essentially a measure of term importance, and of how discriminative a word is in a corpus.** There are a variety of nuances involved in computing TF-IDF, mainly involving where to add the smoothing term to avoid division by 0, or log of 0 errors. The formula for TF-IDF in `scikit-learn` differs from that of most textbooks: \n",
        "\n",
        "$$\\mbox{TF-IDF}(t, d) = \\mbox{TF}(t, d)\\times \\mbox{IDF}(t) = n_{td} \\log{\\left( \\frac{\\vert D \\vert}{\\vert d : t \\in d \\vert} + 1 \\right)}$$\n",
        "\n",
        "where $n_{td}$ is the number of times term $t$ occurs in document $d$, $\\vert D \\vert$ is the number of documents, and $\\vert d : t \\in d \\vert$ is the number of documents that contain $t$"
      ]
    },
    {
      "metadata": {
        "id": "w3QQVeIkIrHt",
        "colab_type": "code",
        "colab": {}
      },
      "cell_type": "code",
      "source": [
        "# http://scikit-learn.org/dev/modules/feature_extraction.html#text-feature-extraction\n",
        "# http://scikit-learn.org/dev/modules/classes.html#text-feature-extraction-ref\n",
        "from sklearn.feature_extraction.text import TfidfVectorizer\n",
        "tfidfvectorizer = TfidfVectorizer(min_df=1, stop_words='english')\n",
        "Xtfidf=tfidfvectorizer.fit_transform(critics.quote)"
      ],
      "execution_count": 0,
      "outputs": []
    },
    {
      "metadata": {
        "id": "OfcKUqGaIrH1",
        "colab_type": "text"
      },
      "cell_type": "markdown",
      "source": [
        "<div class=\"span5 alert alert-info\">\n",
        "<h3>Exercise Set VIII: Enrichment <b>(Optional)</b></h3>\n",
        "\n",
        "<p>\n",
        "There are several additional things we could try. Try some of these as exercises:\n",
        "<ol>\n",
        "<li> Build a Naive Bayes model where the features are n-grams instead of words. N-grams are phrases containing n words next to each other: a bigram contains 2 words, a trigram contains 3 words, and 6-gram contains 6 words. This is useful because \"not good\" and \"so good\" mean very different things. On the other hand, as n increases, the model does not scale well since the feature set becomes more sparse.\n",
        "<li> Try a model besides Naive Bayes, one that would allow for interactions between words -- for example, a Random Forest classifier.\n",
        "<li> Try adding supplemental features -- information about genre, director, cast, etc.\n",
        "<li> Use word2vec or [Latent Dirichlet Allocation](https://en.wikipedia.org/wiki/Latent_Dirichlet_allocation) to group words into topics and use those topics for prediction.\n",
        "<li> Use TF-IDF weighting instead of word counts.\n",
        "</ol>\n",
        "</p>\n",
        "\n",
        "<b>Exercise:</b> Try at least one of these ideas to improve the model (or any other ideas of your own). Implement here and report on the result. \n",
        "</div>"
      ]
    },
    {
      "metadata": {
        "id": "uNA9PXWJIrH6",
        "colab_type": "code",
        "colab": {
          "base_uri": "https://localhost:8080/",
          "height": 122
        },
        "outputId": "b4add5e8-0a35-4139-a0e7-eafbb5a8be1a"
      },
      "cell_type": "code",
      "source": [
        "# Your turn\n",
        "# Tune the hyperparameters: alpha, min_df\n",
        "# grid of parameters to search over\n",
        "alphas = [.1, 1, 5, 10, 50]\n",
        "min_dfs = [1, 2, 3, 5, 10, 15, 21, 22, 23, 24, 25]\n",
        "\n",
        "# Find the best value for alpha and min_df, and the best classifier\n",
        "best_alpha = None\n",
        "best_min_df = None\n",
        "maxscore=-np.inf\n",
        "\n",
        "for alpha in alphas:        \n",
        "    for min_df in min_dfs:   \n",
        "        X, y = make_xy(critics, CountVectorizer(min_df=min_df, ngram_range=(1,2)) )\n",
        "        Xtrain = X[mask]\n",
        "        ytrain = y[mask]\n",
        "        Xtest = X[~mask]\n",
        "        ytest = y[~mask]        \n",
        "        clf = MultinomialNB(alpha=alpha)\n",
        "        score = cv_score(clf, Xtrain, ytrain, log_likelihood)\n",
        "        if score > maxscore: # maximize log_likelihood\n",
        "            maxscore = score\n",
        "            best_min_df = min_df\n",
        "            best_alpha = alpha\n",
        "            \n",
        "print('best min_df:', best_min_df)\n",
        "print('best alpha:', best_alpha)\n",
        "print('best score:', maxscore)\n",
        "\n",
        "\n",
        "# Work with the best hyperparameters\n",
        "X, y = make_xy(critics, CountVectorizer(min_df=best_min_df, ngram_range=(1,2)))\n",
        "Xtrain=X[mask]\n",
        "ytrain=y[mask]\n",
        "Xtest=X[~mask]\n",
        "ytest=y[~mask]\n",
        "\n",
        "# Train the Multinomial Naive Bayes model\n",
        "mnb = MultinomialNB(alpha=best_alpha).fit(Xtrain, ytrain)\n",
        "\n",
        "# Print the accuracy on the test and training dataset\n",
        "print('TUNED MNB USING DI-GRAMS')\n",
        "print('Training Accuracy: %2.2f' %(100*mnb.score(Xtrain, ytrain)))\n",
        "print('Testing Accuracy: %2.2f' %(100*mnb.score(Xtest, ytest)))"
      ],
      "execution_count": 38,
      "outputs": [
        {
          "output_type": "stream",
          "text": [
            "('best min_df:', 24)\n",
            "('best alpha:', 5)\n",
            "('best score:', -605.2483991653177)\n",
            "TUNED MNB USING DI-GRAMS\n",
            "Training Accuracy: 78.65\n",
            "Testing Accuracy: 70.42\n"
          ],
          "name": "stdout"
        }
      ]
    }
  ]
}