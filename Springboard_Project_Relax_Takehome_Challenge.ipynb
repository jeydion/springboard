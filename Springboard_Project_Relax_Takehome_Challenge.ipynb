{
  "nbformat": 4,
  "nbformat_minor": 0,
  "metadata": {
    "colab": {
      "name": "Springboard Project - Relax Takehome Challenge.ipynb",
      "version": "0.3.2",
      "provenance": [],
      "collapsed_sections": [],
      "include_colab_link": true
    },
    "kernelspec": {
      "name": "python3",
      "display_name": "Python 3"
    }
  },
  "cells": [
    {
      "cell_type": "markdown",
      "metadata": {
        "id": "view-in-github",
        "colab_type": "text"
      },
      "source": [
        "<a href=\"https://colab.research.google.com/github/jeydion/springboard/blob/master/Springboard_Project_Relax_Takehome_Challenge.ipynb\" target=\"_parent\"><img src=\"https://colab.research.google.com/assets/colab-badge.svg\" alt=\"Open In Colab\"/></a>"
      ]
    },
    {
      "cell_type": "code",
      "metadata": {
        "id": "0iWP5ZE92qNv",
        "colab_type": "code",
        "colab": {}
      },
      "source": [
        "import pandas as pd\n",
        "import numpy as np\n",
        "import matplotlib\n",
        "import matplotlib.pyplot as plt\n",
        "%matplotlib inline\n",
        "import seaborn as sns\n",
        "from datetime import timedelta\n",
        "from datetime import datetime\n",
        "from pandas import Grouper\n",
        "\n",
        "from sklearn.model_selection import train_test_split\n",
        "from sklearn.utils import resample\n",
        "from sklearn.ensemble import RandomForestClassifier\n",
        "from sklearn.linear_model import LogisticRegression\n",
        "from sklearn.linear_model import LinearRegression\n",
        "from sklearn.metrics import accuracy_score\n",
        "from sklearn.model_selection import KFold\n",
        "from sklearn.model_selection import GridSearchCV\n",
        "from sklearn.metrics import confusion_matrix, classification_report\n",
        "from sklearn.metrics import auc\n",
        "from sklearn.metrics import roc_curve\n",
        "from sklearn.preprocessing import StandardScaler\n",
        "from sklearn.pipeline import Pipeline\n"
      ],
      "execution_count": 0,
      "outputs": []
    },
    {
      "cell_type": "code",
      "metadata": {
        "id": "EyuHZwHT24JA",
        "colab_type": "code",
        "outputId": "8aa2dbdf-31bd-4107-c486-e20c5d9b5424",
        "colab": {
          "base_uri": "https://localhost:8080/",
          "height": 299
        }
      },
      "source": [
        "users_url = 'https://raw.githubusercontent.com/jeydion/springboard/master/takehome_users.csv'\n",
        "users_df = pd.read_csv(users_url, encoding='latin1')\n",
        "users_df.head()"
      ],
      "execution_count": 36,
      "outputs": [
        {
          "output_type": "execute_result",
          "data": {
            "text/html": [
              "<div>\n",
              "<style scoped>\n",
              "    .dataframe tbody tr th:only-of-type {\n",
              "        vertical-align: middle;\n",
              "    }\n",
              "\n",
              "    .dataframe tbody tr th {\n",
              "        vertical-align: top;\n",
              "    }\n",
              "\n",
              "    .dataframe thead th {\n",
              "        text-align: right;\n",
              "    }\n",
              "</style>\n",
              "<table border=\"1\" class=\"dataframe\">\n",
              "  <thead>\n",
              "    <tr style=\"text-align: right;\">\n",
              "      <th></th>\n",
              "      <th>object_id</th>\n",
              "      <th>creation_time</th>\n",
              "      <th>name</th>\n",
              "      <th>email</th>\n",
              "      <th>creation_source</th>\n",
              "      <th>last_session_creation_time</th>\n",
              "      <th>opted_in_to_mailing_list</th>\n",
              "      <th>enabled_for_marketing_drip</th>\n",
              "      <th>org_id</th>\n",
              "      <th>invited_by_user_id</th>\n",
              "    </tr>\n",
              "  </thead>\n",
              "  <tbody>\n",
              "    <tr>\n",
              "      <th>0</th>\n",
              "      <td>1</td>\n",
              "      <td>2014-04-22 03:53:30</td>\n",
              "      <td>Clausen August</td>\n",
              "      <td>AugustCClausen@yahoo.com</td>\n",
              "      <td>GUEST_INVITE</td>\n",
              "      <td>1.398139e+09</td>\n",
              "      <td>1</td>\n",
              "      <td>0</td>\n",
              "      <td>11</td>\n",
              "      <td>10803.0</td>\n",
              "    </tr>\n",
              "    <tr>\n",
              "      <th>1</th>\n",
              "      <td>2</td>\n",
              "      <td>2013-11-15 03:45:04</td>\n",
              "      <td>Poole Matthew</td>\n",
              "      <td>MatthewPoole@gustr.com</td>\n",
              "      <td>ORG_INVITE</td>\n",
              "      <td>1.396238e+09</td>\n",
              "      <td>0</td>\n",
              "      <td>0</td>\n",
              "      <td>1</td>\n",
              "      <td>316.0</td>\n",
              "    </tr>\n",
              "    <tr>\n",
              "      <th>2</th>\n",
              "      <td>3</td>\n",
              "      <td>2013-03-19 23:14:52</td>\n",
              "      <td>Bottrill Mitchell</td>\n",
              "      <td>MitchellBottrill@gustr.com</td>\n",
              "      <td>ORG_INVITE</td>\n",
              "      <td>1.363735e+09</td>\n",
              "      <td>0</td>\n",
              "      <td>0</td>\n",
              "      <td>94</td>\n",
              "      <td>1525.0</td>\n",
              "    </tr>\n",
              "    <tr>\n",
              "      <th>3</th>\n",
              "      <td>4</td>\n",
              "      <td>2013-05-21 08:09:28</td>\n",
              "      <td>Clausen Nicklas</td>\n",
              "      <td>NicklasSClausen@yahoo.com</td>\n",
              "      <td>GUEST_INVITE</td>\n",
              "      <td>1.369210e+09</td>\n",
              "      <td>0</td>\n",
              "      <td>0</td>\n",
              "      <td>1</td>\n",
              "      <td>5151.0</td>\n",
              "    </tr>\n",
              "    <tr>\n",
              "      <th>4</th>\n",
              "      <td>5</td>\n",
              "      <td>2013-01-17 10:14:20</td>\n",
              "      <td>Raw Grace</td>\n",
              "      <td>GraceRaw@yahoo.com</td>\n",
              "      <td>GUEST_INVITE</td>\n",
              "      <td>1.358850e+09</td>\n",
              "      <td>0</td>\n",
              "      <td>0</td>\n",
              "      <td>193</td>\n",
              "      <td>5240.0</td>\n",
              "    </tr>\n",
              "  </tbody>\n",
              "</table>\n",
              "</div>"
            ],
            "text/plain": [
              "   object_id        creation_time  ... org_id invited_by_user_id\n",
              "0          1  2014-04-22 03:53:30  ...     11            10803.0\n",
              "1          2  2013-11-15 03:45:04  ...      1              316.0\n",
              "2          3  2013-03-19 23:14:52  ...     94             1525.0\n",
              "3          4  2013-05-21 08:09:28  ...      1             5151.0\n",
              "4          5  2013-01-17 10:14:20  ...    193             5240.0\n",
              "\n",
              "[5 rows x 10 columns]"
            ]
          },
          "metadata": {
            "tags": []
          },
          "execution_count": 36
        }
      ]
    },
    {
      "cell_type": "code",
      "metadata": {
        "id": "LRT8rrw47abQ",
        "colab_type": "code",
        "outputId": "03813014-006d-4741-f157-09c994707654",
        "colab": {
          "base_uri": "https://localhost:8080/",
          "height": 195
        }
      },
      "source": [
        "time_url = 'https://raw.githubusercontent.com/jeydion/springboard/master/takehome_user_engagement.csv'\n",
        "time_df = pd.read_csv(time_url, encoding='latin1', parse_dates=['time_stamp'])\n",
        "time_df.head()"
      ],
      "execution_count": 37,
      "outputs": [
        {
          "output_type": "execute_result",
          "data": {
            "text/html": [
              "<div>\n",
              "<style scoped>\n",
              "    .dataframe tbody tr th:only-of-type {\n",
              "        vertical-align: middle;\n",
              "    }\n",
              "\n",
              "    .dataframe tbody tr th {\n",
              "        vertical-align: top;\n",
              "    }\n",
              "\n",
              "    .dataframe thead th {\n",
              "        text-align: right;\n",
              "    }\n",
              "</style>\n",
              "<table border=\"1\" class=\"dataframe\">\n",
              "  <thead>\n",
              "    <tr style=\"text-align: right;\">\n",
              "      <th></th>\n",
              "      <th>time_stamp</th>\n",
              "      <th>user_id</th>\n",
              "      <th>visited</th>\n",
              "    </tr>\n",
              "  </thead>\n",
              "  <tbody>\n",
              "    <tr>\n",
              "      <th>0</th>\n",
              "      <td>2014-04-22 03:53:30</td>\n",
              "      <td>1</td>\n",
              "      <td>1</td>\n",
              "    </tr>\n",
              "    <tr>\n",
              "      <th>1</th>\n",
              "      <td>2013-11-15 03:45:04</td>\n",
              "      <td>2</td>\n",
              "      <td>1</td>\n",
              "    </tr>\n",
              "    <tr>\n",
              "      <th>2</th>\n",
              "      <td>2013-11-29 03:45:04</td>\n",
              "      <td>2</td>\n",
              "      <td>1</td>\n",
              "    </tr>\n",
              "    <tr>\n",
              "      <th>3</th>\n",
              "      <td>2013-12-09 03:45:04</td>\n",
              "      <td>2</td>\n",
              "      <td>1</td>\n",
              "    </tr>\n",
              "    <tr>\n",
              "      <th>4</th>\n",
              "      <td>2013-12-25 03:45:04</td>\n",
              "      <td>2</td>\n",
              "      <td>1</td>\n",
              "    </tr>\n",
              "  </tbody>\n",
              "</table>\n",
              "</div>"
            ],
            "text/plain": [
              "           time_stamp  user_id  visited\n",
              "0 2014-04-22 03:53:30        1        1\n",
              "1 2013-11-15 03:45:04        2        1\n",
              "2 2013-11-29 03:45:04        2        1\n",
              "3 2013-12-09 03:45:04        2        1\n",
              "4 2013-12-25 03:45:04        2        1"
            ]
          },
          "metadata": {
            "tags": []
          },
          "execution_count": 37
        }
      ]
    },
    {
      "cell_type": "markdown",
      "metadata": {
        "id": "SyUT1rr07u9f",
        "colab_type": "text"
      },
      "source": [
        "## EDA\n",
        "\n",
        "With both files loaded, analysis can begin. First the amount of visits per user need to be aggregated as well as their times. From there a new column can be made labelled \"adopted user\". This column will be the boolean value if a user has visited on three seperate days in a week."
      ]
    },
    {
      "cell_type": "code",
      "metadata": {
        "id": "1DTBYsFH6Lkf",
        "colab_type": "code",
        "outputId": "3651460a-9afe-46da-d023-67bc8c64c94b",
        "colab": {
          "base_uri": "https://localhost:8080/",
          "height": 87
        }
      },
      "source": [
        "time_df.isnull().sum()"
      ],
      "execution_count": 38,
      "outputs": [
        {
          "output_type": "execute_result",
          "data": {
            "text/plain": [
              "time_stamp    0\n",
              "user_id       0\n",
              "visited       0\n",
              "dtype: int64"
            ]
          },
          "metadata": {
            "tags": []
          },
          "execution_count": 38
        }
      ]
    },
    {
      "cell_type": "code",
      "metadata": {
        "id": "2xuw7BjqKikx",
        "colab_type": "code",
        "outputId": "3b704280-616a-4560-a268-6b10014fbbfc",
        "colab": {
          "base_uri": "https://localhost:8080/",
          "height": 343
        }
      },
      "source": [
        "# Group by time_stamp\n",
        "df3 = time_df.groupby([Grouper(key='time_stamp', freq='W'), 'user_id']).agg({'visited': np.sum})\n",
        "df4 = df3.reset_index()\n",
        "df4.head(10)"
      ],
      "execution_count": 39,
      "outputs": [
        {
          "output_type": "execute_result",
          "data": {
            "text/html": [
              "<div>\n",
              "<style scoped>\n",
              "    .dataframe tbody tr th:only-of-type {\n",
              "        vertical-align: middle;\n",
              "    }\n",
              "\n",
              "    .dataframe tbody tr th {\n",
              "        vertical-align: top;\n",
              "    }\n",
              "\n",
              "    .dataframe thead th {\n",
              "        text-align: right;\n",
              "    }\n",
              "</style>\n",
              "<table border=\"1\" class=\"dataframe\">\n",
              "  <thead>\n",
              "    <tr style=\"text-align: right;\">\n",
              "      <th></th>\n",
              "      <th>time_stamp</th>\n",
              "      <th>user_id</th>\n",
              "      <th>visited</th>\n",
              "    </tr>\n",
              "  </thead>\n",
              "  <tbody>\n",
              "    <tr>\n",
              "      <th>0</th>\n",
              "      <td>2012-06-03</td>\n",
              "      <td>563</td>\n",
              "      <td>1</td>\n",
              "    </tr>\n",
              "    <tr>\n",
              "      <th>1</th>\n",
              "      <td>2012-06-03</td>\n",
              "      <td>1693</td>\n",
              "      <td>1</td>\n",
              "    </tr>\n",
              "    <tr>\n",
              "      <th>2</th>\n",
              "      <td>2012-06-03</td>\n",
              "      <td>1995</td>\n",
              "      <td>1</td>\n",
              "    </tr>\n",
              "    <tr>\n",
              "      <th>3</th>\n",
              "      <td>2012-06-03</td>\n",
              "      <td>2120</td>\n",
              "      <td>1</td>\n",
              "    </tr>\n",
              "    <tr>\n",
              "      <th>4</th>\n",
              "      <td>2012-06-03</td>\n",
              "      <td>2136</td>\n",
              "      <td>1</td>\n",
              "    </tr>\n",
              "    <tr>\n",
              "      <th>5</th>\n",
              "      <td>2012-06-03</td>\n",
              "      <td>2494</td>\n",
              "      <td>1</td>\n",
              "    </tr>\n",
              "    <tr>\n",
              "      <th>6</th>\n",
              "      <td>2012-06-03</td>\n",
              "      <td>2568</td>\n",
              "      <td>1</td>\n",
              "    </tr>\n",
              "    <tr>\n",
              "      <th>7</th>\n",
              "      <td>2012-06-03</td>\n",
              "      <td>3428</td>\n",
              "      <td>1</td>\n",
              "    </tr>\n",
              "    <tr>\n",
              "      <th>8</th>\n",
              "      <td>2012-06-03</td>\n",
              "      <td>3514</td>\n",
              "      <td>1</td>\n",
              "    </tr>\n",
              "    <tr>\n",
              "      <th>9</th>\n",
              "      <td>2012-06-03</td>\n",
              "      <td>3721</td>\n",
              "      <td>1</td>\n",
              "    </tr>\n",
              "  </tbody>\n",
              "</table>\n",
              "</div>"
            ],
            "text/plain": [
              "  time_stamp  user_id  visited\n",
              "0 2012-06-03      563        1\n",
              "1 2012-06-03     1693        1\n",
              "2 2012-06-03     1995        1\n",
              "3 2012-06-03     2120        1\n",
              "4 2012-06-03     2136        1\n",
              "5 2012-06-03     2494        1\n",
              "6 2012-06-03     2568        1\n",
              "7 2012-06-03     3428        1\n",
              "8 2012-06-03     3514        1\n",
              "9 2012-06-03     3721        1"
            ]
          },
          "metadata": {
            "tags": []
          },
          "execution_count": 39
        }
      ]
    },
    {
      "cell_type": "code",
      "metadata": {
        "id": "kvrWnAnq8YA9",
        "colab_type": "code",
        "outputId": "cf3f2169-f7b3-4333-b621-fd794e4f4f35",
        "colab": {
          "base_uri": "https://localhost:8080/",
          "height": 225
        }
      },
      "source": [
        "#this helps sort the datetime series\n",
        "visits_df = time_df.groupby(['user_id', Grouper(key='time_stamp', freq='D')]).agg({'visited': np.sum})\n",
        "visits_df.reset_index()\n",
        "visits_df.head()"
      ],
      "execution_count": 40,
      "outputs": [
        {
          "output_type": "execute_result",
          "data": {
            "text/html": [
              "<div>\n",
              "<style scoped>\n",
              "    .dataframe tbody tr th:only-of-type {\n",
              "        vertical-align: middle;\n",
              "    }\n",
              "\n",
              "    .dataframe tbody tr th {\n",
              "        vertical-align: top;\n",
              "    }\n",
              "\n",
              "    .dataframe thead th {\n",
              "        text-align: right;\n",
              "    }\n",
              "</style>\n",
              "<table border=\"1\" class=\"dataframe\">\n",
              "  <thead>\n",
              "    <tr style=\"text-align: right;\">\n",
              "      <th></th>\n",
              "      <th></th>\n",
              "      <th>visited</th>\n",
              "    </tr>\n",
              "    <tr>\n",
              "      <th>user_id</th>\n",
              "      <th>time_stamp</th>\n",
              "      <th></th>\n",
              "    </tr>\n",
              "  </thead>\n",
              "  <tbody>\n",
              "    <tr>\n",
              "      <th>1</th>\n",
              "      <th>2014-04-22</th>\n",
              "      <td>1</td>\n",
              "    </tr>\n",
              "    <tr>\n",
              "      <th rowspan=\"4\" valign=\"top\">2</th>\n",
              "      <th>2013-11-15</th>\n",
              "      <td>1</td>\n",
              "    </tr>\n",
              "    <tr>\n",
              "      <th>2013-11-29</th>\n",
              "      <td>1</td>\n",
              "    </tr>\n",
              "    <tr>\n",
              "      <th>2013-12-09</th>\n",
              "      <td>1</td>\n",
              "    </tr>\n",
              "    <tr>\n",
              "      <th>2013-12-25</th>\n",
              "      <td>1</td>\n",
              "    </tr>\n",
              "  </tbody>\n",
              "</table>\n",
              "</div>"
            ],
            "text/plain": [
              "                    visited\n",
              "user_id time_stamp         \n",
              "1       2014-04-22        1\n",
              "2       2013-11-15        1\n",
              "        2013-11-29        1\n",
              "        2013-12-09        1\n",
              "        2013-12-25        1"
            ]
          },
          "metadata": {
            "tags": []
          },
          "execution_count": 40
        }
      ]
    },
    {
      "cell_type": "code",
      "metadata": {
        "id": "gk_Zt88RAhlJ",
        "colab_type": "code",
        "outputId": "54512130-2a71-4aad-eade-f3e2297797bf",
        "colab": {
          "base_uri": "https://localhost:8080/",
          "height": 195
        }
      },
      "source": [
        "# Make list of first time stamp\n",
        "visits_df= df4[['time_stamp','user_id']]\n",
        "df6 = visits_df.groupby(['user_id']).first().reset_index()\n",
        "first = list(df6.loc[:,'time_stamp'])\n",
        "\n",
        "# Make list of last day user visited\n",
        "df7 = visits_df.groupby(['user_id']).last().reset_index()\n",
        "last = list(df7.loc[:,'time_stamp'])\n",
        "\n",
        "# Make list of all users that visited\n",
        "df8 = visits_df.groupby(['user_id']).count().reset_index()\n",
        "usr_list = list(df8.loc[:, 'user_id'])\n",
        "df8.head()"
      ],
      "execution_count": 41,
      "outputs": [
        {
          "output_type": "execute_result",
          "data": {
            "text/html": [
              "<div>\n",
              "<style scoped>\n",
              "    .dataframe tbody tr th:only-of-type {\n",
              "        vertical-align: middle;\n",
              "    }\n",
              "\n",
              "    .dataframe tbody tr th {\n",
              "        vertical-align: top;\n",
              "    }\n",
              "\n",
              "    .dataframe thead th {\n",
              "        text-align: right;\n",
              "    }\n",
              "</style>\n",
              "<table border=\"1\" class=\"dataframe\">\n",
              "  <thead>\n",
              "    <tr style=\"text-align: right;\">\n",
              "      <th></th>\n",
              "      <th>user_id</th>\n",
              "      <th>time_stamp</th>\n",
              "    </tr>\n",
              "  </thead>\n",
              "  <tbody>\n",
              "    <tr>\n",
              "      <th>0</th>\n",
              "      <td>1</td>\n",
              "      <td>1</td>\n",
              "    </tr>\n",
              "    <tr>\n",
              "      <th>1</th>\n",
              "      <td>2</td>\n",
              "      <td>11</td>\n",
              "    </tr>\n",
              "    <tr>\n",
              "      <th>2</th>\n",
              "      <td>3</td>\n",
              "      <td>1</td>\n",
              "    </tr>\n",
              "    <tr>\n",
              "      <th>3</th>\n",
              "      <td>4</td>\n",
              "      <td>1</td>\n",
              "    </tr>\n",
              "    <tr>\n",
              "      <th>4</th>\n",
              "      <td>5</td>\n",
              "      <td>1</td>\n",
              "    </tr>\n",
              "  </tbody>\n",
              "</table>\n",
              "</div>"
            ],
            "text/plain": [
              "   user_id  time_stamp\n",
              "0        1           1\n",
              "1        2          11\n",
              "2        3           1\n",
              "3        4           1\n",
              "4        5           1"
            ]
          },
          "metadata": {
            "tags": []
          },
          "execution_count": 41
        }
      ]
    },
    {
      "cell_type": "code",
      "metadata": {
        "id": "BABAPE-0IrFX",
        "colab_type": "code",
        "colab": {}
      },
      "source": [
        "\n",
        "visited = []\n",
        "for n in range(len(usr_list)):\n",
        "    #this meets the condition for at least 7 days and \n",
        "    if ((last[n]-first[n]) >= timedelta(7)) and (df8.loc[n, 'time_stamp'] == 3):\n",
        "        visited_usr = df8.loc[n, 'user_id']\n",
        "        visited.append(str(visited_usr))"
      ],
      "execution_count": 0,
      "outputs": []
    },
    {
      "cell_type": "code",
      "metadata": {
        "id": "3npoZyBtMx1V",
        "colab_type": "code",
        "outputId": "fb20aa59-9c2a-4bfa-fc09-29292f2754c4",
        "colab": {
          "base_uri": "https://localhost:8080/",
          "height": 34
        }
      },
      "source": [
        "len(visited)"
      ],
      "execution_count": 43,
      "outputs": [
        {
          "output_type": "execute_result",
          "data": {
            "text/plain": [
              "271"
            ]
          },
          "metadata": {
            "tags": []
          },
          "execution_count": 43
        }
      ]
    },
    {
      "cell_type": "code",
      "metadata": {
        "id": "W-R6Vh2aM7Ri",
        "colab_type": "code",
        "outputId": "e14c733d-57e1-4659-f5a7-41973a9101f0",
        "colab": {
          "base_uri": "https://localhost:8080/",
          "height": 195
        }
      },
      "source": [
        "time_df['adopted_user'] = time_df['user_id'].isin(visited).astype(int)\n",
        "time_df.head()"
      ],
      "execution_count": 44,
      "outputs": [
        {
          "output_type": "execute_result",
          "data": {
            "text/html": [
              "<div>\n",
              "<style scoped>\n",
              "    .dataframe tbody tr th:only-of-type {\n",
              "        vertical-align: middle;\n",
              "    }\n",
              "\n",
              "    .dataframe tbody tr th {\n",
              "        vertical-align: top;\n",
              "    }\n",
              "\n",
              "    .dataframe thead th {\n",
              "        text-align: right;\n",
              "    }\n",
              "</style>\n",
              "<table border=\"1\" class=\"dataframe\">\n",
              "  <thead>\n",
              "    <tr style=\"text-align: right;\">\n",
              "      <th></th>\n",
              "      <th>time_stamp</th>\n",
              "      <th>user_id</th>\n",
              "      <th>visited</th>\n",
              "      <th>adopted_user</th>\n",
              "    </tr>\n",
              "  </thead>\n",
              "  <tbody>\n",
              "    <tr>\n",
              "      <th>0</th>\n",
              "      <td>2014-04-22 03:53:30</td>\n",
              "      <td>1</td>\n",
              "      <td>1</td>\n",
              "      <td>0</td>\n",
              "    </tr>\n",
              "    <tr>\n",
              "      <th>1</th>\n",
              "      <td>2013-11-15 03:45:04</td>\n",
              "      <td>2</td>\n",
              "      <td>1</td>\n",
              "      <td>0</td>\n",
              "    </tr>\n",
              "    <tr>\n",
              "      <th>2</th>\n",
              "      <td>2013-11-29 03:45:04</td>\n",
              "      <td>2</td>\n",
              "      <td>1</td>\n",
              "      <td>0</td>\n",
              "    </tr>\n",
              "    <tr>\n",
              "      <th>3</th>\n",
              "      <td>2013-12-09 03:45:04</td>\n",
              "      <td>2</td>\n",
              "      <td>1</td>\n",
              "      <td>0</td>\n",
              "    </tr>\n",
              "    <tr>\n",
              "      <th>4</th>\n",
              "      <td>2013-12-25 03:45:04</td>\n",
              "      <td>2</td>\n",
              "      <td>1</td>\n",
              "      <td>0</td>\n",
              "    </tr>\n",
              "  </tbody>\n",
              "</table>\n",
              "</div>"
            ],
            "text/plain": [
              "           time_stamp  user_id  visited  adopted_user\n",
              "0 2014-04-22 03:53:30        1        1             0\n",
              "1 2013-11-15 03:45:04        2        1             0\n",
              "2 2013-11-29 03:45:04        2        1             0\n",
              "3 2013-12-09 03:45:04        2        1             0\n",
              "4 2013-12-25 03:45:04        2        1             0"
            ]
          },
          "metadata": {
            "tags": []
          },
          "execution_count": 44
        }
      ]
    },
    {
      "cell_type": "code",
      "metadata": {
        "id": "rs5TMF3nO3EH",
        "colab_type": "code",
        "outputId": "9bc9a122-a914-4034-e39d-e33655cce60a",
        "colab": {
          "base_uri": "https://localhost:8080/",
          "height": 34
        }
      },
      "source": [
        "time_df.adopted_user.sum()"
      ],
      "execution_count": 45,
      "outputs": [
        {
          "output_type": "execute_result",
          "data": {
            "text/plain": [
              "974"
            ]
          },
          "metadata": {
            "tags": []
          },
          "execution_count": 45
        }
      ]
    },
    {
      "cell_type": "markdown",
      "metadata": {
        "id": "d0qm1T7DPAXG",
        "colab_type": "text"
      },
      "source": [
        "We know there are 974 adopted users. Now we need to do further analytical research to identify features. Both datasets will be merged. "
      ]
    },
    {
      "cell_type": "code",
      "metadata": {
        "id": "oyIxRe1rPLgd",
        "colab_type": "code",
        "outputId": "33e9a980-27f2-4dff-92a3-1c57e9df0ca2",
        "colab": {
          "base_uri": "https://localhost:8080/",
          "height": 545
        }
      },
      "source": [
        "users_df=users_df.rename(columns = {'object_id':'user_id'})\n",
        "print(users_df.head())\n",
        "print(users_df.dtypes)\n",
        "print(users_df.isnull().sum())"
      ],
      "execution_count": 46,
      "outputs": [
        {
          "output_type": "stream",
          "text": [
            "   user_id        creation_time  ... org_id invited_by_user_id\n",
            "0        1  2014-04-22 03:53:30  ...     11            10803.0\n",
            "1        2  2013-11-15 03:45:04  ...      1              316.0\n",
            "2        3  2013-03-19 23:14:52  ...     94             1525.0\n",
            "3        4  2013-05-21 08:09:28  ...      1             5151.0\n",
            "4        5  2013-01-17 10:14:20  ...    193             5240.0\n",
            "\n",
            "[5 rows x 10 columns]\n",
            "user_id                         int64\n",
            "creation_time                  object\n",
            "name                           object\n",
            "email                          object\n",
            "creation_source                object\n",
            "last_session_creation_time    float64\n",
            "opted_in_to_mailing_list        int64\n",
            "enabled_for_marketing_drip      int64\n",
            "org_id                          int64\n",
            "invited_by_user_id            float64\n",
            "dtype: object\n",
            "user_id                          0\n",
            "creation_time                    0\n",
            "name                             0\n",
            "email                            0\n",
            "creation_source                  0\n",
            "last_session_creation_time    3177\n",
            "opted_in_to_mailing_list         0\n",
            "enabled_for_marketing_drip       0\n",
            "org_id                           0\n",
            "invited_by_user_id            5583\n",
            "dtype: int64\n"
          ],
          "name": "stdout"
        }
      ]
    },
    {
      "cell_type": "code",
      "metadata": {
        "id": "EFrq7He8QfxC",
        "colab_type": "code",
        "outputId": "c7b2204d-5a6a-4210-db57-233c4e5043f1",
        "colab": {
          "base_uri": "https://localhost:8080/",
          "height": 210
        }
      },
      "source": [
        "# Need to change null values; float values will be the median value\n",
        "\n",
        "for col in users_df.select_dtypes(include=np.number):\n",
        "    users_df[col] = users_df[col].fillna(users_df[col].median())\n",
        "    \n",
        "users_df.isnull().sum()"
      ],
      "execution_count": 47,
      "outputs": [
        {
          "output_type": "execute_result",
          "data": {
            "text/plain": [
              "user_id                       0\n",
              "creation_time                 0\n",
              "name                          0\n",
              "email                         0\n",
              "creation_source               0\n",
              "last_session_creation_time    0\n",
              "opted_in_to_mailing_list      0\n",
              "enabled_for_marketing_drip    0\n",
              "org_id                        0\n",
              "invited_by_user_id            0\n",
              "dtype: int64"
            ]
          },
          "metadata": {
            "tags": []
          },
          "execution_count": 47
        }
      ]
    },
    {
      "cell_type": "code",
      "metadata": {
        "id": "kiq_sUWoSG2U",
        "colab_type": "code",
        "outputId": "a590fb15-dbe7-41ca-cf91-0db226a0229c",
        "colab": {
          "base_uri": "https://localhost:8080/",
          "height": 299
        }
      },
      "source": [
        "df = pd.merge(users_df, time_df, on='user_id')\n",
        "df.head()"
      ],
      "execution_count": 48,
      "outputs": [
        {
          "output_type": "execute_result",
          "data": {
            "text/html": [
              "<div>\n",
              "<style scoped>\n",
              "    .dataframe tbody tr th:only-of-type {\n",
              "        vertical-align: middle;\n",
              "    }\n",
              "\n",
              "    .dataframe tbody tr th {\n",
              "        vertical-align: top;\n",
              "    }\n",
              "\n",
              "    .dataframe thead th {\n",
              "        text-align: right;\n",
              "    }\n",
              "</style>\n",
              "<table border=\"1\" class=\"dataframe\">\n",
              "  <thead>\n",
              "    <tr style=\"text-align: right;\">\n",
              "      <th></th>\n",
              "      <th>user_id</th>\n",
              "      <th>creation_time</th>\n",
              "      <th>name</th>\n",
              "      <th>email</th>\n",
              "      <th>creation_source</th>\n",
              "      <th>last_session_creation_time</th>\n",
              "      <th>opted_in_to_mailing_list</th>\n",
              "      <th>enabled_for_marketing_drip</th>\n",
              "      <th>org_id</th>\n",
              "      <th>invited_by_user_id</th>\n",
              "      <th>time_stamp</th>\n",
              "      <th>visited</th>\n",
              "      <th>adopted_user</th>\n",
              "    </tr>\n",
              "  </thead>\n",
              "  <tbody>\n",
              "    <tr>\n",
              "      <th>0</th>\n",
              "      <td>1</td>\n",
              "      <td>2014-04-22 03:53:30</td>\n",
              "      <td>Clausen August</td>\n",
              "      <td>AugustCClausen@yahoo.com</td>\n",
              "      <td>GUEST_INVITE</td>\n",
              "      <td>1.398139e+09</td>\n",
              "      <td>1</td>\n",
              "      <td>0</td>\n",
              "      <td>11</td>\n",
              "      <td>10803.0</td>\n",
              "      <td>2014-04-22 03:53:30</td>\n",
              "      <td>1</td>\n",
              "      <td>0</td>\n",
              "    </tr>\n",
              "    <tr>\n",
              "      <th>1</th>\n",
              "      <td>2</td>\n",
              "      <td>2013-11-15 03:45:04</td>\n",
              "      <td>Poole Matthew</td>\n",
              "      <td>MatthewPoole@gustr.com</td>\n",
              "      <td>ORG_INVITE</td>\n",
              "      <td>1.396238e+09</td>\n",
              "      <td>0</td>\n",
              "      <td>0</td>\n",
              "      <td>1</td>\n",
              "      <td>316.0</td>\n",
              "      <td>2013-11-15 03:45:04</td>\n",
              "      <td>1</td>\n",
              "      <td>0</td>\n",
              "    </tr>\n",
              "    <tr>\n",
              "      <th>2</th>\n",
              "      <td>2</td>\n",
              "      <td>2013-11-15 03:45:04</td>\n",
              "      <td>Poole Matthew</td>\n",
              "      <td>MatthewPoole@gustr.com</td>\n",
              "      <td>ORG_INVITE</td>\n",
              "      <td>1.396238e+09</td>\n",
              "      <td>0</td>\n",
              "      <td>0</td>\n",
              "      <td>1</td>\n",
              "      <td>316.0</td>\n",
              "      <td>2013-11-29 03:45:04</td>\n",
              "      <td>1</td>\n",
              "      <td>0</td>\n",
              "    </tr>\n",
              "    <tr>\n",
              "      <th>3</th>\n",
              "      <td>2</td>\n",
              "      <td>2013-11-15 03:45:04</td>\n",
              "      <td>Poole Matthew</td>\n",
              "      <td>MatthewPoole@gustr.com</td>\n",
              "      <td>ORG_INVITE</td>\n",
              "      <td>1.396238e+09</td>\n",
              "      <td>0</td>\n",
              "      <td>0</td>\n",
              "      <td>1</td>\n",
              "      <td>316.0</td>\n",
              "      <td>2013-12-09 03:45:04</td>\n",
              "      <td>1</td>\n",
              "      <td>0</td>\n",
              "    </tr>\n",
              "    <tr>\n",
              "      <th>4</th>\n",
              "      <td>2</td>\n",
              "      <td>2013-11-15 03:45:04</td>\n",
              "      <td>Poole Matthew</td>\n",
              "      <td>MatthewPoole@gustr.com</td>\n",
              "      <td>ORG_INVITE</td>\n",
              "      <td>1.396238e+09</td>\n",
              "      <td>0</td>\n",
              "      <td>0</td>\n",
              "      <td>1</td>\n",
              "      <td>316.0</td>\n",
              "      <td>2013-12-25 03:45:04</td>\n",
              "      <td>1</td>\n",
              "      <td>0</td>\n",
              "    </tr>\n",
              "  </tbody>\n",
              "</table>\n",
              "</div>"
            ],
            "text/plain": [
              "   user_id        creation_time  ... visited adopted_user\n",
              "0        1  2014-04-22 03:53:30  ...       1            0\n",
              "1        2  2013-11-15 03:45:04  ...       1            0\n",
              "2        2  2013-11-15 03:45:04  ...       1            0\n",
              "3        2  2013-11-15 03:45:04  ...       1            0\n",
              "4        2  2013-11-15 03:45:04  ...       1            0\n",
              "\n",
              "[5 rows x 13 columns]"
            ]
          },
          "metadata": {
            "tags": []
          },
          "execution_count": 48
        }
      ]
    },
    {
      "cell_type": "code",
      "metadata": {
        "id": "xPrLbkOUSh5T",
        "colab_type": "code",
        "outputId": "c80f4e3f-a3b2-4bab-f2d0-6052c6ca95d8",
        "colab": {
          "base_uri": "https://localhost:8080/",
          "height": 263
        }
      },
      "source": [
        "df.dtypes"
      ],
      "execution_count": 49,
      "outputs": [
        {
          "output_type": "execute_result",
          "data": {
            "text/plain": [
              "user_id                                int64\n",
              "creation_time                         object\n",
              "name                                  object\n",
              "email                                 object\n",
              "creation_source                       object\n",
              "last_session_creation_time           float64\n",
              "opted_in_to_mailing_list               int64\n",
              "enabled_for_marketing_drip             int64\n",
              "org_id                                 int64\n",
              "invited_by_user_id                   float64\n",
              "time_stamp                    datetime64[ns]\n",
              "visited                                int64\n",
              "adopted_user                           int64\n",
              "dtype: object"
            ]
          },
          "metadata": {
            "tags": []
          },
          "execution_count": 49
        }
      ]
    },
    {
      "cell_type": "code",
      "metadata": {
        "id": "FBnykcUSTKz3",
        "colab_type": "code",
        "colab": {}
      },
      "source": [
        "# Convert last_session_creation_time to DateTime\n",
        "df['last_session_creation_time'] = pd.to_datetime(df['last_session_creation_time'],unit='s')"
      ],
      "execution_count": 0,
      "outputs": []
    },
    {
      "cell_type": "markdown",
      "metadata": {
        "id": "mNivl94uUIql",
        "colab_type": "text"
      },
      "source": [
        "The following cells are work in progress. I kept getting an error when trying to analyze the time columns. Upon consulting other Springboard students and Stack Overflow, I found a solution that helps further the analysis. <br/>\n",
        "I also dropped the user_id, name, email columns since personal information won't help the analysis. "
      ]
    },
    {
      "cell_type": "code",
      "metadata": {
        "id": "TC_4sQsbUh1L",
        "colab_type": "code",
        "colab": {}
      },
      "source": [
        "df = df.drop(['name', 'email','user_id'], axis = 1)\n"
      ],
      "execution_count": 0,
      "outputs": []
    },
    {
      "cell_type": "code",
      "metadata": {
        "id": "ynlkvL6ZVV18",
        "colab_type": "code",
        "colab": {}
      },
      "source": [
        "df['creation_time'] = pd.to_datetime(df['creation_time'])"
      ],
      "execution_count": 0,
      "outputs": []
    },
    {
      "cell_type": "code",
      "metadata": {
        "id": "I5Bn2PagVNu1",
        "colab_type": "code",
        "colab": {}
      },
      "source": [
        "df['creation_time']= df['creation_time'].astype(np.int64) / 10**9\n",
        "df['last_session_creation_time']= df['last_session_creation_time'].astype(np.int64) / 10**9\n",
        "df['time_stamp']= df['time_stamp'].astype(np.int64) / 10**9"
      ],
      "execution_count": 0,
      "outputs": []
    },
    {
      "cell_type": "code",
      "metadata": {
        "id": "olDS0OSZVi4k",
        "colab_type": "code",
        "outputId": "045b2483-c744-458b-c1ad-58e669415991",
        "colab": {
          "base_uri": "https://localhost:8080/",
          "height": 215
        }
      },
      "source": [
        "final_df = pd.concat([df, pd.get_dummies(df['creation_source'], drop_first=True)], axis=1)\n",
        "final_df = final_df.drop('creation_source', axis=1)\n",
        "final_df.head()"
      ],
      "execution_count": 54,
      "outputs": [
        {
          "output_type": "execute_result",
          "data": {
            "text/html": [
              "<div>\n",
              "<style scoped>\n",
              "    .dataframe tbody tr th:only-of-type {\n",
              "        vertical-align: middle;\n",
              "    }\n",
              "\n",
              "    .dataframe tbody tr th {\n",
              "        vertical-align: top;\n",
              "    }\n",
              "\n",
              "    .dataframe thead th {\n",
              "        text-align: right;\n",
              "    }\n",
              "</style>\n",
              "<table border=\"1\" class=\"dataframe\">\n",
              "  <thead>\n",
              "    <tr style=\"text-align: right;\">\n",
              "      <th></th>\n",
              "      <th>creation_time</th>\n",
              "      <th>last_session_creation_time</th>\n",
              "      <th>opted_in_to_mailing_list</th>\n",
              "      <th>enabled_for_marketing_drip</th>\n",
              "      <th>org_id</th>\n",
              "      <th>invited_by_user_id</th>\n",
              "      <th>time_stamp</th>\n",
              "      <th>visited</th>\n",
              "      <th>adopted_user</th>\n",
              "      <th>ORG_INVITE</th>\n",
              "      <th>PERSONAL_PROJECTS</th>\n",
              "      <th>SIGNUP</th>\n",
              "      <th>SIGNUP_GOOGLE_AUTH</th>\n",
              "    </tr>\n",
              "  </thead>\n",
              "  <tbody>\n",
              "    <tr>\n",
              "      <th>0</th>\n",
              "      <td>1.398139e+09</td>\n",
              "      <td>1.398139e+09</td>\n",
              "      <td>1</td>\n",
              "      <td>0</td>\n",
              "      <td>11</td>\n",
              "      <td>10803.0</td>\n",
              "      <td>1.398139e+09</td>\n",
              "      <td>1</td>\n",
              "      <td>0</td>\n",
              "      <td>0</td>\n",
              "      <td>0</td>\n",
              "      <td>0</td>\n",
              "      <td>0</td>\n",
              "    </tr>\n",
              "    <tr>\n",
              "      <th>1</th>\n",
              "      <td>1.384487e+09</td>\n",
              "      <td>1.396238e+09</td>\n",
              "      <td>0</td>\n",
              "      <td>0</td>\n",
              "      <td>1</td>\n",
              "      <td>316.0</td>\n",
              "      <td>1.384487e+09</td>\n",
              "      <td>1</td>\n",
              "      <td>0</td>\n",
              "      <td>1</td>\n",
              "      <td>0</td>\n",
              "      <td>0</td>\n",
              "      <td>0</td>\n",
              "    </tr>\n",
              "    <tr>\n",
              "      <th>2</th>\n",
              "      <td>1.384487e+09</td>\n",
              "      <td>1.396238e+09</td>\n",
              "      <td>0</td>\n",
              "      <td>0</td>\n",
              "      <td>1</td>\n",
              "      <td>316.0</td>\n",
              "      <td>1.385697e+09</td>\n",
              "      <td>1</td>\n",
              "      <td>0</td>\n",
              "      <td>1</td>\n",
              "      <td>0</td>\n",
              "      <td>0</td>\n",
              "      <td>0</td>\n",
              "    </tr>\n",
              "    <tr>\n",
              "      <th>3</th>\n",
              "      <td>1.384487e+09</td>\n",
              "      <td>1.396238e+09</td>\n",
              "      <td>0</td>\n",
              "      <td>0</td>\n",
              "      <td>1</td>\n",
              "      <td>316.0</td>\n",
              "      <td>1.386561e+09</td>\n",
              "      <td>1</td>\n",
              "      <td>0</td>\n",
              "      <td>1</td>\n",
              "      <td>0</td>\n",
              "      <td>0</td>\n",
              "      <td>0</td>\n",
              "    </tr>\n",
              "    <tr>\n",
              "      <th>4</th>\n",
              "      <td>1.384487e+09</td>\n",
              "      <td>1.396238e+09</td>\n",
              "      <td>0</td>\n",
              "      <td>0</td>\n",
              "      <td>1</td>\n",
              "      <td>316.0</td>\n",
              "      <td>1.387943e+09</td>\n",
              "      <td>1</td>\n",
              "      <td>0</td>\n",
              "      <td>1</td>\n",
              "      <td>0</td>\n",
              "      <td>0</td>\n",
              "      <td>0</td>\n",
              "    </tr>\n",
              "  </tbody>\n",
              "</table>\n",
              "</div>"
            ],
            "text/plain": [
              "   creation_time  last_session_creation_time  ...  SIGNUP  SIGNUP_GOOGLE_AUTH\n",
              "0   1.398139e+09                1.398139e+09  ...       0                   0\n",
              "1   1.384487e+09                1.396238e+09  ...       0                   0\n",
              "2   1.384487e+09                1.396238e+09  ...       0                   0\n",
              "3   1.384487e+09                1.396238e+09  ...       0                   0\n",
              "4   1.384487e+09                1.396238e+09  ...       0                   0\n",
              "\n",
              "[5 rows x 13 columns]"
            ]
          },
          "metadata": {
            "tags": []
          },
          "execution_count": 54
        }
      ]
    },
    {
      "cell_type": "code",
      "metadata": {
        "id": "1_HbHQXIZX9_",
        "colab_type": "code",
        "colab": {}
      },
      "source": [
        "# Split data into train-test sets\n",
        "train_set, test_set = train_test_split(final_df, test_size=0.2, random_state=42)"
      ],
      "execution_count": 0,
      "outputs": []
    },
    {
      "cell_type": "markdown",
      "metadata": {
        "id": "ZMeWSSmYZ7XI",
        "colab_type": "text"
      },
      "source": [
        "Ran into the issue that the train-test sets will be very unbalanced with respect to the adopted_user feature. Will resample to correct this imbalance."
      ]
    },
    {
      "cell_type": "code",
      "metadata": {
        "id": "1JSxjMgeaJb8",
        "colab_type": "code",
        "outputId": "78182da4-7a9b-4341-b354-d396f2514309",
        "colab": {
          "base_uri": "https://localhost:8080/",
          "height": 70
        }
      },
      "source": [
        "copytrain_df = train_set.copy()\n",
        "copytrain_df['adopted_user'].value_counts()\n"
      ],
      "execution_count": 56,
      "outputs": [
        {
          "output_type": "execute_result",
          "data": {
            "text/plain": [
              "0    165558\n",
              "1       775\n",
              "Name: adopted_user, dtype: int64"
            ]
          },
          "metadata": {
            "tags": []
          },
          "execution_count": 56
        }
      ]
    },
    {
      "cell_type": "code",
      "metadata": {
        "id": "4LtzjJLNazwk",
        "colab_type": "code",
        "colab": {}
      },
      "source": [
        "unadopted_df = copytrain_df[copytrain_df['adopted_user'] == 0]\n",
        "adopted_df = copytrain_df[copytrain_df['adopted_user'] == 1]"
      ],
      "execution_count": 0,
      "outputs": []
    },
    {
      "cell_type": "code",
      "metadata": {
        "id": "ubsHbIrHbOt_",
        "colab_type": "code",
        "colab": {}
      },
      "source": [
        "adopted_resampled_df = resample(adopted_df, \n",
        "                                 replace=True,     \n",
        "                                 n_samples=165558,\n",
        "                                 random_state=42)"
      ],
      "execution_count": 0,
      "outputs": []
    },
    {
      "cell_type": "code",
      "metadata": {
        "id": "3WXthCaZbhTL",
        "colab_type": "code",
        "colab": {}
      },
      "source": [
        "final_resampled_df = pd.concat([unadopted_df, adopted_resampled_df])"
      ],
      "execution_count": 0,
      "outputs": []
    },
    {
      "cell_type": "code",
      "metadata": {
        "id": "ClwT7HI4bzo3",
        "colab_type": "code",
        "outputId": "eb57faf5-682c-4ab7-caed-6fac81859d1f",
        "colab": {
          "base_uri": "https://localhost:8080/",
          "height": 70
        }
      },
      "source": [
        "final_resampled_df['adopted_user'].value_counts()"
      ],
      "execution_count": 60,
      "outputs": [
        {
          "output_type": "execute_result",
          "data": {
            "text/plain": [
              "1    165558\n",
              "0    165558\n",
              "Name: adopted_user, dtype: int64"
            ]
          },
          "metadata": {
            "tags": []
          },
          "execution_count": 60
        }
      ]
    },
    {
      "cell_type": "code",
      "metadata": {
        "id": "vXN0TJ3Ab9YP",
        "colab_type": "code",
        "colab": {}
      },
      "source": [
        "# Seperated features from target\n",
        "\n",
        "#creating predictors and target variables for the train set\n",
        "X_train = final_resampled_df.drop('adopted_user', axis=1)\n",
        "y_train = final_resampled_df['adopted_user']\n",
        "\n",
        "##creating predictors and target variables for the test set\n",
        "copytest_df = test_set.copy()\n",
        "X_test = copytest_df.drop('adopted_user', axis=1)\n",
        "y_test = copytest_df['adopted_user']\n"
      ],
      "execution_count": 0,
      "outputs": []
    },
    {
      "cell_type": "code",
      "metadata": {
        "id": "fx4UCJPrfDl4",
        "colab_type": "code",
        "colab": {}
      },
      "source": [
        "def train_test_model(X_train, X_test, y_train, y_test, model):\n",
        "    '''Function will split the data'''\n",
        "    # Create train and test sets\n",
        "    # X_train, X_test, y_train, y_test = train_test_split(X, y, test_size = 0.2, random_state=42)\n",
        "    # Convert DataFrames to NumPy Arrays\n",
        "    X_train = np.array(X_train)\n",
        "    X_test = np.array(X_test)\n",
        "    y_train = np.array(y_train)\n",
        "    y_test = np.array(y_test)\n",
        "    \n",
        "        \n",
        "    # Fit the model to the training data\n",
        "    model.fit(X_train, y_train)\n",
        "    \n",
        "    # Predict the labels of the test set: y_pred\n",
        "    y_pred = model.predict(X_test)\n",
        "    \n",
        "    # Prediction for ROC curve \n",
        "    y_pred_prob = model.predict_proba(X_test)[:,1]\n",
        "    \n",
        "    # Generate ROC curve values: fpr, tpr, thresholds\n",
        "    fpr, tpr, thresholds = roc_curve(y_test, y_pred_prob)\n",
        "\n",
        "    # Plot ROC curve\n",
        "    plt.plot([0, 1], [0, 1], 'k--')\n",
        "    plt.plot(fpr, tpr, label='ROC curve (area = %0.2f)' % auc(fpr,tpr))\n",
        "    plt.xlabel('False Positive Rate')\n",
        "    plt.ylabel('True Positive Rate')\n",
        "    plt.xlim([0.0, 1.0])\n",
        "    plt.ylim([0.0, 1.05])\n",
        "    plt.title('ROC Curve')\n",
        "    plt.legend(loc=\"lower right\")\n",
        "    plt.show();\n",
        "    \n",
        "    \n",
        "    print(classification_report(y_test, y_pred))"
      ],
      "execution_count": 0,
      "outputs": []
    },
    {
      "cell_type": "code",
      "metadata": {
        "id": "WUK-1Ev6fW1D",
        "colab_type": "code",
        "outputId": "07143228-6de4-4215-9845-c7217e3e17bd",
        "colab": {
          "base_uri": "https://localhost:8080/",
          "height": 454
        }
      },
      "source": [
        "logreg = LogisticRegression(n_jobs=1, solver='lbfgs', max_iter=1000)\n",
        "c_space = np.logspace(-10, 8, 20)\n",
        "logreg_param_grid = {'C': c_space}\n",
        "\n",
        "train_test_model(X_train,X_test,y_train,y_test,logreg,logreg_param_grid)"
      ],
      "execution_count": 73,
      "outputs": [
        {
          "output_type": "display_data",
          "data": {
            "image/png": "[encoded data removed]",
            "text/plain": [
              "<Figure size 432x288 with 1 Axes>"
            ]
          },
          "metadata": {
            "tags": []
          }
        },
        {
          "output_type": "stream",
          "text": [
            "              precision    recall  f1-score   support\n",
            "\n",
            "           0       1.00      0.94      0.97     41385\n",
            "           1       0.07      1.00      0.13       199\n",
            "\n",
            "    accuracy                           0.94     41584\n",
            "   macro avg       0.54      0.97      0.55     41584\n",
            "weighted avg       1.00      0.94      0.96     41584\n",
            "\n"
          ],
          "name": "stdout"
        }
      ]
    },
    {
      "cell_type": "code",
      "metadata": {
        "id": "H1CGWalzfs-i",
        "colab_type": "code",
        "colab": {
          "base_uri": "https://localhost:8080/",
          "height": 454
        },
        "outputId": "bbcb80aa-daca-4f38-d395-70684ed62da9"
      },
      "source": [
        "forest = RandomForestClassifier(n_estimators=100, n_jobs=-1)\n",
        "forest_param_grid = {\"max_depth\": [3, None],\n",
        "              \"max_features\": [1, 3, 10],\n",
        "              \"min_samples_split\": range(10,500,20),\n",
        "              \"bootstrap\": [True, False],\n",
        "              \"criterion\": [\"gini\", \"entropy\"],\n",
        "              \"oob_score\": True}\n",
        "train_test_model(X_train, X_test, y_train, y_test, forest, forest_param_grid)"
      ],
      "execution_count": 77,
      "outputs": [
        {
          "output_type": "display_data",
          "data": {
            "image/png": "[encoded data removed]",
            "text/plain": [
              "<Figure size 432x288 with 1 Axes>"
            ]
          },
          "metadata": {
            "tags": []
          }
        },
        {
          "output_type": "stream",
          "text": [
            "              precision    recall  f1-score   support\n",
            "\n",
            "           0       1.00      1.00      1.00     41385\n",
            "           1       0.99      0.88      0.93       199\n",
            "\n",
            "    accuracy                           1.00     41584\n",
            "   macro avg       1.00      0.94      0.97     41584\n",
            "weighted avg       1.00      1.00      1.00     41584\n",
            "\n"
          ],
          "name": "stdout"
        }
      ]
    },
    {
      "cell_type": "markdown",
      "metadata": {
        "id": "nt2Zaw7gMarr",
        "colab_type": "text"
      },
      "source": [
        "Though very close, the Random Forests classifier has a near perfect accuracy score as well as ROC curve. When the model is fit, the list of feature importance is printed below."
      ]
    },
    {
      "cell_type": "code",
      "metadata": {
        "id": "ESx2tj3jh1ta",
        "colab_type": "code",
        "colab": {
          "base_uri": "https://localhost:8080/",
          "height": 140
        },
        "outputId": "aafabd87-1cfb-470b-e393-239da9de81fb"
      },
      "source": [
        "best_model = RandomForestClassifier(bootstrap=False, criterion='gini', max_depth=None, max_features=3, min_samples_split=250, n_estimators=5)\n",
        "best_model.fit(X_train,y_train)"
      ],
      "execution_count": 75,
      "outputs": [
        {
          "output_type": "execute_result",
          "data": {
            "text/plain": [
              "RandomForestClassifier(bootstrap=False, class_weight=None, criterion='gini',\n",
              "                       max_depth=None, max_features=3, max_leaf_nodes=None,\n",
              "                       min_impurity_decrease=0.0, min_impurity_split=None,\n",
              "                       min_samples_leaf=1, min_samples_split=250,\n",
              "                       min_weight_fraction_leaf=0.0, n_estimators=5,\n",
              "                       n_jobs=None, oob_score=False, random_state=None,\n",
              "                       verbose=0, warm_start=False)"
            ]
          },
          "metadata": {
            "tags": []
          },
          "execution_count": 75
        }
      ]
    },
    {
      "cell_type": "code",
      "metadata": {
        "id": "ZuX1ARdOh3hE",
        "colab_type": "code",
        "colab": {
          "base_uri": "https://localhost:8080/",
          "height": 402
        },
        "outputId": "b39234bc-03f2-43fd-e3e3-ee0fd6596957"
      },
      "source": [
        "feature_importances = pd.DataFrame(best_model.feature_importances_, \n",
        "             index = X_train.columns, columns = ['importance']).sort_values('importance', ascending=False)\n",
        "feature_importances"
      ],
      "execution_count": 76,
      "outputs": [
        {
          "output_type": "execute_result",
          "data": {
            "text/html": [
              "<div>\n",
              "<style scoped>\n",
              "    .dataframe tbody tr th:only-of-type {\n",
              "        vertical-align: middle;\n",
              "    }\n",
              "\n",
              "    .dataframe tbody tr th {\n",
              "        vertical-align: top;\n",
              "    }\n",
              "\n",
              "    .dataframe thead th {\n",
              "        text-align: right;\n",
              "    }\n",
              "</style>\n",
              "<table border=\"1\" class=\"dataframe\">\n",
              "  <thead>\n",
              "    <tr style=\"text-align: right;\">\n",
              "      <th></th>\n",
              "      <th>importance</th>\n",
              "    </tr>\n",
              "  </thead>\n",
              "  <tbody>\n",
              "    <tr>\n",
              "      <th>last_session_creation_time</th>\n",
              "      <td>0.426900</td>\n",
              "    </tr>\n",
              "    <tr>\n",
              "      <th>creation_time</th>\n",
              "      <td>0.357825</td>\n",
              "    </tr>\n",
              "    <tr>\n",
              "      <th>time_stamp</th>\n",
              "      <td>0.121554</td>\n",
              "    </tr>\n",
              "    <tr>\n",
              "      <th>org_id</th>\n",
              "      <td>0.043210</td>\n",
              "    </tr>\n",
              "    <tr>\n",
              "      <th>invited_by_user_id</th>\n",
              "      <td>0.029904</td>\n",
              "    </tr>\n",
              "    <tr>\n",
              "      <th>opted_in_to_mailing_list</th>\n",
              "      <td>0.005295</td>\n",
              "    </tr>\n",
              "    <tr>\n",
              "      <th>enabled_for_marketing_drip</th>\n",
              "      <td>0.004827</td>\n",
              "    </tr>\n",
              "    <tr>\n",
              "      <th>SIGNUP</th>\n",
              "      <td>0.004131</td>\n",
              "    </tr>\n",
              "    <tr>\n",
              "      <th>SIGNUP_GOOGLE_AUTH</th>\n",
              "      <td>0.003285</td>\n",
              "    </tr>\n",
              "    <tr>\n",
              "      <th>PERSONAL_PROJECTS</th>\n",
              "      <td>0.001723</td>\n",
              "    </tr>\n",
              "    <tr>\n",
              "      <th>ORG_INVITE</th>\n",
              "      <td>0.001348</td>\n",
              "    </tr>\n",
              "    <tr>\n",
              "      <th>visited</th>\n",
              "      <td>0.000000</td>\n",
              "    </tr>\n",
              "  </tbody>\n",
              "</table>\n",
              "</div>"
            ],
            "text/plain": [
              "                            importance\n",
              "last_session_creation_time    0.426900\n",
              "creation_time                 0.357825\n",
              "time_stamp                    0.121554\n",
              "org_id                        0.043210\n",
              "invited_by_user_id            0.029904\n",
              "opted_in_to_mailing_list      0.005295\n",
              "enabled_for_marketing_drip    0.004827\n",
              "SIGNUP                        0.004131\n",
              "SIGNUP_GOOGLE_AUTH            0.003285\n",
              "PERSONAL_PROJECTS             0.001723\n",
              "ORG_INVITE                    0.001348\n",
              "visited                       0.000000"
            ]
          },
          "metadata": {
            "tags": []
          },
          "execution_count": 76
        }
      ]
    },
    {
      "cell_type": "markdown",
      "metadata": {
        "id": "GFL_ilTCNOCe",
        "colab_type": "text"
      },
      "source": [
        "The most important features are last_session_creation_time, creation_time and time_stamp. "
      ]
    },
    {
      "cell_type": "code",
      "metadata": {
        "id": "8PFpKpfGSZPh",
        "colab_type": "code",
        "colab": {}
      },
      "source": [
        ""
      ],
      "execution_count": 0,
      "outputs": []
    },
    {
      "cell_type": "code",
      "metadata": {
        "id": "jiQnEoUGSZM2",
        "colab_type": "code",
        "colab": {}
      },
      "source": [
        ""
      ],
      "execution_count": 0,
      "outputs": []
    },
    {
      "cell_type": "code",
      "metadata": {
        "id": "FgPL5ChLSZKM",
        "colab_type": "code",
        "colab": {}
      },
      "source": [
        ""
      ],
      "execution_count": 0,
      "outputs": []
    },
    {
      "cell_type": "code",
      "metadata": {
        "id": "-NrisF6lSZHB",
        "colab_type": "code",
        "colab": {}
      },
      "source": [
        ""
      ],
      "execution_count": 0,
      "outputs": []
    }
  ]
}